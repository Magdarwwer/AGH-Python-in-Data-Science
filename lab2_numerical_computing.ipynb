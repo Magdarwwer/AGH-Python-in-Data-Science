{
 "cells": [
  {
   "cell_type": "markdown",
   "metadata": {},
   "source": [
    "# Języki programowania w Data Science (Python)\n",
    "## 1. NumPy\n",
    "\"The fundamental package for scientific computing with Python\" ~ numpy.org"
   ]
  },
  {
   "cell_type": "code",
   "execution_count": 116,
   "metadata": {},
   "outputs": [
    {
     "name": "stdout",
     "output_type": "stream",
     "text": [
      "{\n",
      "  \"Compilers\": {\n",
      "    \"c\": {\n",
      "      \"name\": \"msvc\",\n",
      "      \"linker\": \"link\",\n",
      "      \"version\": \"19.44.35215\",\n",
      "      \"commands\": \"cl\"\n",
      "    },\n",
      "    \"cython\": {\n",
      "      \"name\": \"cython\",\n",
      "      \"linker\": \"cython\",\n",
      "      \"version\": \"3.1.3\",\n",
      "      \"commands\": \"cython\"\n",
      "    },\n",
      "    \"c++\": {\n",
      "      \"name\": \"msvc\",\n",
      "      \"linker\": \"link\",\n",
      "      \"version\": \"19.44.35215\",\n",
      "      \"commands\": \"cl\"\n",
      "    }\n",
      "  },\n",
      "  \"Machine Information\": {\n",
      "    \"host\": {\n",
      "      \"cpu\": \"x86_64\",\n",
      "      \"family\": \"x86_64\",\n",
      "      \"endian\": \"little\",\n",
      "      \"system\": \"windows\"\n",
      "    },\n",
      "    \"build\": {\n",
      "      \"cpu\": \"x86_64\",\n",
      "      \"family\": \"x86_64\",\n",
      "      \"endian\": \"little\",\n",
      "      \"system\": \"windows\"\n",
      "    }\n",
      "  },\n",
      "  \"Build Dependencies\": {\n",
      "    \"blas\": {\n",
      "      \"name\": \"scipy-openblas\",\n",
      "      \"found\": true,\n",
      "      \"version\": \"0.3.30\",\n",
      "      \"detection method\": \"pkgconfig\",\n",
      "      \"include directory\": \"C:/Users/runneradmin/AppData/Local/Temp/cibw-run-5t0hy_xh/cp313-win_amd64/build/venv/Lib/site-packages/scipy_openblas64/include\",\n",
      "      \"lib directory\": \"C:/Users/runneradmin/AppData/Local/Temp/cibw-run-5t0hy_xh/cp313-win_amd64/build/venv/Lib/site-packages/scipy_openblas64/lib\",\n",
      "      \"openblas configuration\": \"OpenBLAS 0.3.30  USE64BITINT DYNAMIC_ARCH NO_AFFINITY Haswell MAX_THREADS=24\",\n",
      "      \"pc file directory\": \"D:/a/numpy-release/numpy-release/.openblas\"\n",
      "    },\n",
      "    \"lapack\": {\n",
      "      \"name\": \"scipy-openblas\",\n",
      "      \"found\": true,\n",
      "      \"version\": \"0.3.30\",\n",
      "      \"detection method\": \"pkgconfig\",\n",
      "      \"include directory\": \"C:/Users/runneradmin/AppData/Local/Temp/cibw-run-5t0hy_xh/cp313-win_amd64/build/venv/Lib/site-packages/scipy_openblas64/include\",\n",
      "      \"lib directory\": \"C:/Users/runneradmin/AppData/Local/Temp/cibw-run-5t0hy_xh/cp313-win_amd64/build/venv/Lib/site-packages/scipy_openblas64/lib\",\n",
      "      \"openblas configuration\": \"OpenBLAS 0.3.30  USE64BITINT DYNAMIC_ARCH NO_AFFINITY Haswell MAX_THREADS=24\",\n",
      "      \"pc file directory\": \"D:/a/numpy-release/numpy-release/.openblas\"\n",
      "    }\n",
      "  },\n",
      "  \"Python Information\": {\n",
      "    \"path\": \"C:\\\\Users\\\\runneradmin\\\\AppData\\\\Local\\\\Temp\\\\build-env-q3zde7n4\\\\Scripts\\\\python.exe\",\n",
      "    \"version\": \"3.13\"\n",
      "  },\n",
      "  \"SIMD Extensions\": {\n",
      "    \"baseline\": [\n",
      "      \"SSE\",\n",
      "      \"SSE2\",\n",
      "      \"SSE3\"\n",
      "    ],\n",
      "    \"found\": [\n",
      "      \"SSSE3\",\n",
      "      \"SSE41\",\n",
      "      \"POPCNT\",\n",
      "      \"SSE42\",\n",
      "      \"AVX\",\n",
      "      \"F16C\",\n",
      "      \"FMA3\",\n",
      "      \"AVX2\"\n",
      "    ],\n",
      "    \"not found\": [\n",
      "      \"AVX512F\",\n",
      "      \"AVX512CD\",\n",
      "      \"AVX512_SKX\",\n",
      "      \"AVX512_CLX\",\n",
      "      \"AVX512_CNL\",\n",
      "      \"AVX512_ICL\"\n",
      "    ]\n",
      "  }\n",
      "}\n"
     ]
    },
    {
     "name": "stderr",
     "output_type": "stream",
     "text": [
      "c:\\Users\\magda\\Desktop\\AGH - ML\\Python - Data Science\\AGH-Python-in-Data-Science\\venv\\Lib\\site-packages\\numpy\\__config__.py:155: UserWarning: Install `pyyaml` for better output\n",
      "  warnings.warn(\"Install `pyyaml` for better output\", stacklevel=1)\n"
     ]
    }
   ],
   "source": [
    "import numpy as np # Standardowo numpy importuje się pod tym aliasem. Podobnie jak pandas nazwa nie jest długa, ale potrafi wystąpić kilka razy w jednej linijce, więc warto skrócić.\n",
    "np.show_config()"
   ]
  },
  {
   "cell_type": "markdown",
   "metadata": {},
   "source": [
    "NumPy oparty jest o interfejsy API BLAS (Basic Linear Algebra Subprograms) i LAPACK (Linear ALgebra PACKage), czyli wysoce zoptymalizowane pod określone typy precesorów narzędzia do operacji numerycznych na poziomie wektorów i macierzy. Ich implementacje dostępne są w Fortranie i C a domyślnie instalowaną przez NumPy jest open-source'owy OpenBLAS. Istnieje możliwość instalacji NumPy wykorzystującego na przykład Intelowski MKL - ten pakiet jest zwykle trochę szybszy od OpenBLASa, ale zajmuje 700 zamiast 30 MB."
   ]
  },
  {
   "cell_type": "markdown",
   "metadata": {},
   "source": [
    "## 2. NumPy'owe tablice\n",
    "Rdzeniem biblioteki NumPy jest obiekt ndarray (od n-dimentional-array). Jest to tablica zawierająca elementy tego samego typu, indeksowana tuplą nieujemnych liczb całkowitych. W przeciwieństwie do list pythona, NumPy'owe tablice zawierają bezpośrednio obiekty w jednym, nieprzerwanym bloku pamięci (tak, jak w C, czy Fortranie) a nie referencje do obiektów. Umożliwia to znaczne przyspieczenie operacji na tablicach kosztem pewnych ograniczeń.\n",
    "\n",
    " - Tablice NumPy mają stały rozmiar podczas tworzenia, w przeciwieństwie do list Pythona (które mogą rosnąć dynamicznie). Zmiana rozmiaru tablicy ndarray spowoduje utworzenie nowej tablicy i usunięcie oryginalnej.\n",
    "\n",
    " - Wszystkie elementy w tablicy NumPy muszą zawierać ten sam typ danych, a zatem ich elementy mają ten sam rozmiar w pamięci. Wyjątkiem są tablice obiektów, ale powinno być to traktowane jako wytrych raczej niż standardowe wykorzystanie.\n",
    "\n",
    " - Tablice NumPy ułatwiają zaawansowane operacje matematyczne i inne rodzaje operacji na dużej liczbie danych. Zazwyczaj takie operacje są wykonywane wydajniej i przy użyciu mniejszej ilości kodu niż jest to możliwe przy użyciu wbudowanych sekwencji Pythona.\n",
    "\n",
    " - Rosnąca liczba naukowych i matematycznych pakietów opartych na Pythonie wykorzystuje tablice NumPy; chociaż zazwyczaj obsługują one dane wejściowe w postaci sekwencji Pythona, konwertują takie dane wejściowe na tablice NumPy przed ich przetworzeniem i często zwracają już tablice. Wniosek z tego jest taki, że do korzystania z większości naukowego/matematycznego oprogramowania w Pythonie nie wystarczy wiedza o wbudowanych sekwencjach - trzeba również wiedzieć, jak korzystać z tablic NumPy.\n"
   ]
  },
  {
   "cell_type": "code",
   "execution_count": 108,
   "metadata": {},
   "outputs": [
    {
     "data": {
      "text/plain": [
       "np.int64(80)"
      ]
     },
     "execution_count": 108,
     "metadata": {},
     "output_type": "execute_result"
    }
   ],
   "source": [
    "# Poniżej sposób na sprawdzenie, ile Bajtów w pamięci zajmuje tablica\n",
    "zeros = np.zeros(10, dtype=float) # Tworzymy tablicę wypełnioną zerami, typem danych jest float\n",
    "np.multiply(zeros.size, zeros.itemsize) # Przemnażamy ilość elementów w tablicy przez wielkość każdego z nich w pamięci"
   ]
  },
  {
   "cell_type": "code",
   "execution_count": 109,
   "metadata": {},
   "outputs": [
    {
     "name": "stdout",
     "output_type": "stream",
     "text": [
      "multiply(x1, x2, /, out=None, *, where=True, casting='same_kind', order='K', dtype=None, subok=True[, signature])\n",
      "\n",
      "Multiply arguments element-wise.\n",
      "\n",
      "Parameters\n",
      "----------\n",
      "x1, x2 : array_like\n",
      "    Input arrays to be multiplied.\n",
      "    If ``x1.shape != x2.shape``, they must be broadcastable to a common\n",
      "    shape (which becomes the shape of the output).\n",
      "out : ndarray, None, or tuple of ndarray and None, optional\n",
      "    A location into which the result is stored. If provided, it must have\n",
      "    a shape that the inputs broadcast to. If not provided or None,\n",
      "    a freshly-allocated array is returned. A tuple (possible only as a\n",
      "    keyword argument) must have length equal to the number of outputs.\n",
      "where : array_like, optional\n",
      "    This condition is broadcast over the input. At locations where the\n",
      "    condition is True, the `out` array will be set to the ufunc result.\n",
      "    Elsewhere, the `out` array will retain its original value.\n",
      "    Note that if an uninitialized `out` array is created via the default\n",
      "    ``out=None``, locations within it where the condition is False will\n",
      "    remain uninitialized.\n",
      "**kwargs\n",
      "    For other keyword-only arguments, see the\n",
      "    :ref:`ufunc docs <ufuncs.kwargs>`.\n",
      "\n",
      "Returns\n",
      "-------\n",
      "y : ndarray\n",
      "    The product of `x1` and `x2`, element-wise.\n",
      "    This is a scalar if both `x1` and `x2` are scalars.\n",
      "\n",
      "Notes\n",
      "-----\n",
      "Equivalent to `x1` * `x2` in terms of array broadcasting.\n",
      "\n",
      "Examples\n",
      "--------\n",
      ">>> import numpy as np\n",
      ">>> np.multiply(2.0, 4.0)\n",
      "8.0\n",
      "\n",
      ">>> x1 = np.arange(9.0).reshape((3, 3))\n",
      ">>> x2 = np.arange(3.0)\n",
      ">>> np.multiply(x1, x2)\n",
      "array([[  0.,   1.,   4.],\n",
      "       [  0.,   4.,  10.],\n",
      "       [  0.,   7.,  16.]])\n",
      "\n",
      "The ``*`` operator can be used as a shorthand for ``np.multiply`` on\n",
      "ndarrays.\n",
      "\n",
      ">>> x1 = np.arange(9.0).reshape((3, 3))\n",
      ">>> x2 = np.arange(3.0)\n",
      ">>> x1 * x2\n",
      "array([[  0.,   1.,   4.],\n",
      "       [  0.,   4.,  10.],\n",
      "       [  0.,   7.,  16.]])\n"
     ]
    }
   ],
   "source": [
    "# Gdy mamy wątpliwości co do działania jakiejkolwiek NumPy'owej operacji, możemy wypisać jej dokumentację w programie, lub sprawdzić na stronie numpy.org\n",
    "print(np.multiply.__doc__)"
   ]
  },
  {
   "cell_type": "markdown",
   "metadata": {},
   "source": [
    "#### Porównanie szybkości\n",
    "Sprawdźmy, ile czasu zaoszczędzimy na prostej operacji generowania dwóch list z losowymi liczbami i przemnażania ich elementów."
   ]
  },
  {
   "cell_type": "code",
   "execution_count": 121,
   "metadata": {},
   "outputs": [],
   "source": [
    "import random\n",
    "from time import perf_counter\n",
    "\n",
    "POWER = 7"
   ]
  },
  {
   "cell_type": "code",
   "execution_count": 122,
   "metadata": {},
   "outputs": [
    {
     "name": "stdout",
     "output_type": "stream",
     "text": [
      "Input list creation time:  7.949656400131062\n",
      "Result list calculation time:  1.6238356998655945\n"
     ]
    }
   ],
   "source": [
    "t_start = perf_counter()\n",
    "p_a = [random.randint(0,100) for _ in range(10**POWER)] # looping\n",
    "p_b = [random.randint(0,100) for _ in range(10**POWER)]\n",
    "t_end = perf_counter()\n",
    "print(\"Input list creation time: \", t_end - t_start)\n",
    "t_start = perf_counter()\n",
    "p_c = []\n",
    "for i in range(len(p_a)): # looping\n",
    "    p_c.append(p_a[i]*p_b[i]) # allocating memory for list expansion\n",
    "t_end = perf_counter()\n",
    "print(\"Result list calculation time: \", t_end - t_start)"
   ]
  },
  {
   "cell_type": "code",
   "execution_count": null,
   "metadata": {},
   "outputs": [],
   "source": [
    "t_start = perf_counter()\n",
    "lp_a = [random.randint(0,100) for _ in range(10**POWER)] # looping\n",
    "lp_b = [random.randint(0,100) for _ in range(10**POWER)]\n",
    "t_end = perf_counter()\n",
    "print(\"Input list creation time: \", t_end - t_start)\n",
    "t_start = perf_counter()\n",
    "lp_c = [lp_a[i] * lp_b[i] for i in range(len(lp_a))] # looping\n",
    "t_end = perf_counter()\n",
    "print(\"Result list calculation time: \", t_end - t_start)"
   ]
  },
  {
   "cell_type": "code",
   "execution_count": null,
   "metadata": {},
   "outputs": [],
   "source": [
    "t_start = perf_counter()\n",
    "np_a = np.random.randint(0,100, size=10**POWER) # vectorized operation\n",
    "np_b = np.random.randint(0,100, size=10**POWER)\n",
    "t_end = perf_counter()\n",
    "print(\"List creation time: \", t_end - t_start)\n",
    "t_start = perf_counter()\n",
    "np_c = np_a * np_b # vectorized operation\n",
    "t_end = perf_counter()\n",
    "print(\"Result list calculation time: \", t_end - t_start)"
   ]
  },
  {
   "cell_type": "markdown",
   "metadata": {},
   "source": [
    "### Co sprawia, że NumPy jest szybki?\n",
    "Numpy opiera swoją wydajność na wektoryzacji. Kod zwektoryzowany (vectorized) pozwala procesorowi wykonać operacje na wielu elementach wektora w tym samym czasie. Wiele procesorów ma zestawy instrukcji \"wektorowych\" lub \"SIMD\", które stosują tę samą operację jednocześnie do dwóch, czterech lub więcej elementów danych. Jeśli spojrzycie na stronę na wikipedii BLAS'a, to zobaczycie, że jego funkcjonalności podzielone są na poziomy, gdzie pierwszy poziom, to operacje wektor-wektor, drugi macierz-wektor a trzeci macierz-macierz. Każdy z tych poziomów oferuje optymalizacje dla konkretnego typu operacji. Wszelkie niezoptymalizowane pętle i indeksowanie odnoszące się do pojedynczych elementów nie pozwalają procesorom wykorzystać pełni swojej mocy. Dodatkowo ciągła struktura tablic NumPy o określonym rozmiarze przyspiesza operacje na pamięci (patrz pierwszy przykład, gdzie traciliśmy czas na rozszerzanie listy).\n",
    "\n",
    "## 3. Korzystanie z tablic\n",
    "Zapisywanie operacji obliczeniowych w sposób zwektoryzowany jest pewną sztuką samą w sobie. Nie iterujemy już po elementach tablicy zamiast tego umieszczając je we wzorze jak zwykłe zmienne Niemniej zmieniając sposób myślenia o kodzie i zdobywając pewną wprawę jesteśmy w stanie zapisać skomplikowane działania w bardzo elegancki, 'pythonowy' sposób - ta czytelność operacji matematycznych to kolejna zaleta NumPy'owych tablic.\n",
    "\n",
    "### Generowanie tablic\n",
    "\n",
    "#### Wektory"
   ]
  },
  {
   "cell_type": "code",
   "execution_count": 2,
   "metadata": {},
   "outputs": [
    {
     "data": {
      "text/plain": [
       "array([1, 3, 5, 7])"
      ]
     },
     "execution_count": 2,
     "metadata": {},
     "output_type": "execute_result"
    }
   ],
   "source": [
    "# Poniżej wygodne tworzenie mniejszych tablic poprzez rzutowanie listy. Przy tworzeniu warto okreslić typ choćby dla własnej świadomości, ale przy jego braku NumPy spróbuje go wywnioskować..\n",
    "np.array([1, 3, 5, 7], dtype=int)"
   ]
  },
  {
   "cell_type": "code",
   "execution_count": 16,
   "metadata": {},
   "outputs": [
    {
     "data": {
      "text/plain": [
       "array([ 0.,  1.,  2.,  3.,  4.,  5.,  6.,  7.,  8.,  9., 10.])"
      ]
     },
     "execution_count": 16,
     "metadata": {},
     "output_type": "execute_result"
    }
   ],
   "source": [
    "# Bardzo często spotykanymi sposobami inicjacji są metody tworzące serię liczb. Arange zwraca nam wartości na przedziale (górna granica otwarta) rozmieszczone w określonej odległości od siebie.\n",
    "np.arange(0.0, 10.1, 1.0)"
   ]
  },
  {
   "cell_type": "code",
   "execution_count": 14,
   "metadata": {},
   "outputs": [
    {
     "data": {
      "text/plain": [
       "array([[  0.,   0.],\n",
       "       [ 10.,  20.],\n",
       "       [ 20.,  40.],\n",
       "       [ 30.,  60.],\n",
       "       [ 40.,  80.],\n",
       "       [ 50., 100.],\n",
       "       [ 60., 120.],\n",
       "       [ 70., 140.],\n",
       "       [ 80., 160.],\n",
       "       [ 90., 180.],\n",
       "       [100., 200.]])"
      ]
     },
     "execution_count": 14,
     "metadata": {},
     "output_type": "execute_result"
    }
   ],
   "source": [
    "# Linspace natomiast zwraca n równo rozłożonych liczb i zawiera górną granicę przedziału. Poniżej przykład dwuwymiarowy.\n",
    "np.linspace([0.0, 0.0], [100.0, 200.0], 11)"
   ]
  },
  {
   "cell_type": "markdown",
   "metadata": {},
   "source": [
    "#### Macierze"
   ]
  },
  {
   "cell_type": "code",
   "execution_count": 13,
   "metadata": {},
   "outputs": [
    {
     "data": {
      "text/plain": [
       "array([[1., 0., 0., 0., 0.],\n",
       "       [0., 1., 0., 0., 0.],\n",
       "       [0., 0., 1., 0., 0.],\n",
       "       [0., 0., 0., 1., 0.],\n",
       "       [0., 0., 0., 0., 1.]])"
      ]
     },
     "execution_count": 13,
     "metadata": {},
     "output_type": "execute_result"
    }
   ],
   "source": [
    "# Funkcja eye generuje kwadratową macierz jednostkową (identycznościową) o zadanym rozmiarze.\n",
    "np.eye(5)"
   ]
  },
  {
   "cell_type": "code",
   "execution_count": 5,
   "metadata": {},
   "outputs": [
    {
     "data": {
      "text/plain": [
       "array([[0, 0, 0, 0, 0, 0, 0],\n",
       "       [0, 0, 0, 0, 0, 0, 0],\n",
       "       [0, 1, 0, 0, 0, 0, 0],\n",
       "       [0, 0, 2, 0, 0, 0, 0],\n",
       "       [0, 0, 0, 3, 0, 0, 0],\n",
       "       [0, 0, 0, 0, 4, 0, 0],\n",
       "       [0, 0, 0, 0, 0, 5, 0]])"
      ]
     },
     "execution_count": 5,
     "metadata": {},
     "output_type": "execute_result"
    }
   ],
   "source": [
    "# Za pomocą funkcji diag możemy wygenerować macierz zer z konkretną sekwencją liczb na danej diagonali\n",
    "np.diag(np.arange(6), -1)"
   ]
  },
  {
   "cell_type": "code",
   "execution_count": 6,
   "metadata": {},
   "outputs": [
    {
     "data": {
      "text/plain": [
       "array([1., 1., 1., 1.])"
      ]
     },
     "execution_count": 6,
     "metadata": {},
     "output_type": "execute_result"
    }
   ],
   "source": [
    "# Albo zwrócić wartości na zadanej diagonali w już istniejącej macierzy\n",
    "np.diag(np.eye(4))"
   ]
  },
  {
   "cell_type": "markdown",
   "metadata": {},
   "source": [
    "#### Funkcje n-wymiarowe"
   ]
  },
  {
   "cell_type": "code",
   "execution_count": 113,
   "metadata": {},
   "outputs": [
    {
     "data": {
      "text/plain": [
       "array([[[[0., 0.],\n",
       "         [0., 0.]],\n",
       "\n",
       "        [[0., 0.],\n",
       "         [0., 0.]]],\n",
       "\n",
       "\n",
       "       [[[0., 0.],\n",
       "         [0., 0.]],\n",
       "\n",
       "        [[0., 0.],\n",
       "         [0., 0.]]]])"
      ]
     },
     "execution_count": 113,
     "metadata": {},
     "output_type": "execute_result"
    }
   ],
   "source": [
    "# Funkcja zeros generuje macierz zer. Służy często do rezerwowania miejsca na tablicę, do której konkretne wartości wpisujemy już później.\n",
    "np.zeros([2]*4, dtype=float)"
   ]
  },
  {
   "cell_type": "code",
   "execution_count": 8,
   "metadata": {},
   "outputs": [
    {
     "data": {
      "text/plain": [
       "array([[1, 0, 1, 0, 1, 0, 1, 0],\n",
       "       [0, 1, 0, 1, 0, 1, 0, 1],\n",
       "       [1, 0, 1, 0, 1, 0, 1, 0],\n",
       "       [0, 1, 0, 1, 0, 1, 0, 1],\n",
       "       [1, 0, 1, 0, 1, 0, 1, 0],\n",
       "       [0, 1, 0, 1, 0, 1, 0, 1],\n",
       "       [1, 0, 1, 0, 1, 0, 1, 0],\n",
       "       [0, 1, 0, 1, 0, 1, 0, 1]])"
      ]
     },
     "execution_count": 8,
     "metadata": {},
     "output_type": "execute_result"
    }
   ],
   "source": [
    "# Bardziej zaawansowane macierze możemy generować wykorzystując kafelkowanie. Funkcja tile pozwala określić nam charakterystykę kafelków oraz jak je rozmieścić. Poniżej szachownica.\n",
    "mat = np.tile([[1,0],\n",
    "               [0,1]], (4,4))\n",
    "mat"
   ]
  },
  {
   "cell_type": "code",
   "execution_count": 9,
   "metadata": {},
   "outputs": [
    {
     "data": {
      "text/plain": [
       "array([[[1, 0, 1, 0],\n",
       "        [0, 1, 0, 1],\n",
       "        [1, 0, 1, 0],\n",
       "        [0, 1, 0, 1]],\n",
       "\n",
       "       [[0, 1, 0, 1],\n",
       "        [1, 0, 1, 0],\n",
       "        [0, 1, 0, 1],\n",
       "        [1, 0, 1, 0]],\n",
       "\n",
       "       [[1, 0, 1, 0],\n",
       "        [0, 1, 0, 1],\n",
       "        [1, 0, 1, 0],\n",
       "        [0, 1, 0, 1]],\n",
       "\n",
       "       [[0, 1, 0, 1],\n",
       "        [1, 0, 1, 0],\n",
       "        [0, 1, 0, 1],\n",
       "        [1, 0, 1, 0]]])"
      ]
     },
     "execution_count": 9,
     "metadata": {},
     "output_type": "execute_result"
    }
   ],
   "source": [
    "# Przy odrobinie umysłowej gimnastyki możemy też wygenerować struktury wyżej-wymiarowe. Poniżej kostka w szachownicę.\n",
    "mat = np.tile([[[1,0],[0,1]],[[0,1],[1,0]]], (2,2,2))\n",
    "mat"
   ]
  },
  {
   "cell_type": "code",
   "execution_count": 10,
   "metadata": {},
   "outputs": [
    {
     "data": {
      "text/plain": [
       "array([[0.81609487, 8.50595637, 4.88147536, 9.41505079],\n",
       "       [2.1392578 , 2.80969868, 3.41989489, 3.43738714],\n",
       "       [3.34310295, 2.79984705, 7.86511031, 2.33113222],\n",
       "       [2.20226873, 4.43984451, 3.33998564, 3.18309439]])"
      ]
     },
     "execution_count": 10,
     "metadata": {},
     "output_type": "execute_result"
    }
   ],
   "source": [
    "# Najczęściej jednak spotykanym sposobem generacji jest wykorzystywanie modułu liczb pseudolosowych. Poniżej generowanie z rozkładu jednostajnego.\n",
    "np.random.uniform(low=0, high=10, size=[4,4])"
   ]
  },
  {
   "cell_type": "code",
   "execution_count": 124,
   "metadata": {},
   "outputs": [
    {
     "data": {
      "text/plain": [
       "array([[4, 8, 0, 7],\n",
       "       [6, 4, 7, 9],\n",
       "       [9, 0, 3, 1],\n",
       "       [9, 7, 2, 6]], dtype=int32)"
      ]
     },
     "execution_count": 124,
     "metadata": {},
     "output_type": "execute_result"
    }
   ],
   "source": [
    "# Podobnie generowanie liczb pseudolosowych całkowitych\n",
    "np.random.randint(low=0, high=10, size=[4,4])"
   ]
  },
  {
   "cell_type": "code",
   "execution_count": 12,
   "metadata": {},
   "outputs": [
    {
     "data": {
      "text/plain": [
       "array([[[11.82411327,  5.53063547, 20.20113343],\n",
       "        [11.96394451,  8.3163342 , 16.93138682],\n",
       "        [16.01550722, 10.55178833,  4.70739079]],\n",
       "\n",
       "       [[ 5.95351162,  8.39886458,  6.98567687],\n",
       "        [13.40390357, 19.08579156,  4.82325553],\n",
       "        [ 6.95556935,  6.9742612 ,  9.61922876]],\n",
       "\n",
       "       [[ 6.53516324, 10.91715564,  8.66379145],\n",
       "        [22.30949804,  1.96225138, 12.02003343],\n",
       "        [14.13226116, 13.10779513, 12.3206679 ]]])"
      ]
     },
     "execution_count": 12,
     "metadata": {},
     "output_type": "execute_result"
    }
   ],
   "source": [
    "# Oraz liczb z rozkładu normalnego\n",
    "np.random.normal(loc=10.0, scale=5.0, size=[3,3,3])"
   ]
  },
  {
   "cell_type": "markdown",
   "metadata": {},
   "source": [
    "### Ćwiczenie 1\n",
    "Jak utworzyć w numpy następującą tablicę o wymiarach 6x6?: \\\n",
    "array([[ 0.,  0.,  0.,  0.,  0.,  0.],\\\n",
    "       [ 2.,  4.,  6.,  8., 10., 12.],\\\n",
    "       [ 4.,  8., 12., 16., 20., 24.],\\\n",
    "       [ 6., 12., 18., 24., 30., 36.],\\\n",
    "       [ 8., 16., 24., 32., 40., 48.],\\\n",
    "       [10., 20., 30., 40., 50., 60.]])"
   ]
  },
  {
   "cell_type": "code",
   "execution_count": 18,
   "metadata": {},
   "outputs": [
    {
     "data": {
      "text/plain": [
       "array([[ 0.,  0.,  0.,  0.,  0.,  0.],\n",
       "       [ 2.,  4.,  6.,  8., 10., 12.],\n",
       "       [ 4.,  8., 12., 16., 20., 24.],\n",
       "       [ 6., 12., 18., 24., 30., 36.],\n",
       "       [ 8., 16., 24., 32., 40., 48.],\n",
       "       [10., 20., 30., 40., 50., 60.]])"
      ]
     },
     "execution_count": 18,
     "metadata": {},
     "output_type": "execute_result"
    }
   ],
   "source": [
    "np.linspace([0.0, 0.0, 0.0, 0.0, 0.0, 0.0], [10., 20., 30., 40., 50., 60], 6)\n",
    " "
   ]
  },
  {
   "cell_type": "code",
   "execution_count": 24,
   "metadata": {},
   "outputs": [
    {
     "data": {
      "text/plain": [
       "array([[ 0.,  0.,  0.,  0.,  0.,  0.],\n",
       "       [ 2.,  4.,  6.,  8., 10., 12.],\n",
       "       [ 4.,  8., 12., 16., 20., 24.],\n",
       "       [ 6., 12., 18., 24., 30., 36.],\n",
       "       [ 8., 16., 24., 32., 40., 48.],\n",
       "       [10., 20., 30., 40., 50., 60.]])"
      ]
     },
     "execution_count": 24,
     "metadata": {},
     "output_type": "execute_result"
    }
   ],
   "source": [
    "np.linspace(np.zeros(6), np.arange(10,61,10),6)"
   ]
  },
  {
   "cell_type": "markdown",
   "metadata": {},
   "source": [
    "### Indeksowanie"
   ]
  },
  {
   "cell_type": "code",
   "execution_count": 19,
   "metadata": {},
   "outputs": [
    {
     "name": "stdout",
     "output_type": "stream",
     "text": [
      "[ 0  1  2  3  4  5  6  7  8  9 10 11 12 13 14 15 16 17 18 19]\n"
     ]
    },
    {
     "data": {
      "text/plain": [
       "array([[0, 1, 2, 3, 4, 5, 6, 7],\n",
       "       [0, 1, 2, 3, 4, 5, 6, 7],\n",
       "       [0, 1, 2, 3, 4, 5, 6, 7],\n",
       "       [0, 1, 2, 3, 4, 5, 6, 7],\n",
       "       [0, 1, 2, 3, 4, 5, 6, 7],\n",
       "       [0, 1, 2, 3, 4, 5, 6, 7],\n",
       "       [0, 1, 2, 3, 4, 5, 6, 7],\n",
       "       [0, 1, 2, 3, 4, 5, 6, 7]])"
      ]
     },
     "execution_count": 19,
     "metadata": {},
     "output_type": "execute_result"
    }
   ],
   "source": [
    "# Przygotujmy przykładowy wektor i tablicę\n",
    "sample_table = np.arange(20)\n",
    "print(sample_table)\n",
    "sample_matrix = np.tile(np.arange(8), [8,1])\n",
    "sample_matrix"
   ]
  },
  {
   "cell_type": "code",
   "execution_count": 25,
   "metadata": {},
   "outputs": [
    {
     "name": "stdout",
     "output_type": "stream",
     "text": [
      "5\n"
     ]
    },
    {
     "data": {
      "text/plain": [
       "np.int64(5)"
      ]
     },
     "execution_count": 25,
     "metadata": {},
     "output_type": "execute_result"
    }
   ],
   "source": [
    "# Tak, jak w przypadku pythonowych sekwencji możemy odwoływać się do elementów po indeksie\n",
    "print(sample_table[5])\n",
    "# Jednak odmiennie od nich w przypadku tablic wielowymiarowych indeksy kolejnych wymiarów umieszczamy po przecinku\n",
    "sample_matrix[5,5]"
   ]
  },
  {
   "cell_type": "code",
   "execution_count": 26,
   "metadata": {},
   "outputs": [
    {
     "data": {
      "text/plain": [
       "array([2, 4, 6, 8])"
      ]
     },
     "execution_count": 26,
     "metadata": {},
     "output_type": "execute_result"
    }
   ],
   "source": [
    "# Możemy też odwołać się do wycinka tablicy (slicing). Wycinek definiujemy poprzez podanie wartości start:stop:krok.\n",
    "sample_table[2:10:2]"
   ]
  },
  {
   "cell_type": "code",
   "execution_count": 47,
   "metadata": {},
   "outputs": [
    {
     "data": {
      "text/plain": [
       "array([[7, 5, 3, 1],\n",
       "       [7, 5, 3, 1],\n",
       "       [7, 5, 3, 1],\n",
       "       [7, 5, 3, 1]])"
      ]
     },
     "execution_count": 47,
     "metadata": {},
     "output_type": "execute_result"
    }
   ],
   "source": [
    "# Slicing generalizuje się w analogiczny sposób na macierze.\n",
    "sample_matrix[::2,::-2] # Gdy nie podamy wartości, NumPy użyje domyślnych (start=0,stop=-1,krok=1). Jeśli podamy ujemną wartość kroku, to dostaniemy odwrócony wynik."
   ]
  },
  {
   "cell_type": "code",
   "execution_count": null,
   "metadata": {},
   "outputs": [],
   "source": [
    "sample_matrix.strides #ile w pamieci nalezy sie przemiescic zeby dojsc do nastepnego elemntu"
   ]
  },
  {
   "cell_type": "code",
   "execution_count": null,
   "metadata": {},
   "outputs": [
    {
     "data": {
      "text/plain": [
       "(np.int64(1), np.int64(4), np.int64(4))"
      ]
     },
     "execution_count": 28,
     "metadata": {},
     "output_type": "execute_result"
    }
   ],
   "source": [
    "# Czasem chcemy wiedzieć, na jakim indeksie znajduje się n-ty element danej tablicy. Możemy wtedy 'rozwikłać' indeks.\n",
    "np.unravel_index(100, (8,8,8)) #adres w pamieci od 800-setnego bajta w pamieci"
   ]
  },
  {
   "cell_type": "markdown",
   "metadata": {},
   "source": [
    "### Ćwiczenie 2.\n",
    "Utwórz wycinek macierzy sample_matrix, w którym znajdują się tylko jej wewnętrzne parzyste elementy"
   ]
  },
  {
   "cell_type": "code",
   "execution_count": 74,
   "metadata": {},
   "outputs": [
    {
     "data": {
      "text/plain": [
       "array([[2, 4, 6],\n",
       "       [2, 4, 6],\n",
       "       [2, 4, 6],\n",
       "       [2, 4, 6],\n",
       "       [2, 4, 6],\n",
       "       [2, 4, 6]])"
      ]
     },
     "execution_count": 74,
     "metadata": {},
     "output_type": "execute_result"
    }
   ],
   "source": [
    "sample_matrix[1:-1:,2::2]"
   ]
  },
  {
   "cell_type": "markdown",
   "metadata": {},
   "source": [
    "### Indeksowanie tablicami\n",
    "Bardzo elastycznym mechanizmem unikalnym dla tablic NumPy jest możliwość odwoływania się do konkretnych elementów na podstawie tablicy indeksów."
   ]
  },
  {
   "cell_type": "code",
   "execution_count": 44,
   "metadata": {},
   "outputs": [
    {
     "data": {
      "text/plain": [
       "array([ 2,  4,  6,  6, 17])"
      ]
     },
     "execution_count": 44,
     "metadata": {},
     "output_type": "execute_result"
    }
   ],
   "source": [
    "# Poniżej przykład zwracający widok składający się z elementów na wskazanych indeksach. Jak widać możemy powtarzać indeksy oraz indeksować liczbami ujemnymi.\n",
    "sample_table[[2,4,6,6,-3]]"
   ]
  },
  {
   "cell_type": "code",
   "execution_count": 45,
   "metadata": {},
   "outputs": [
    {
     "data": {
      "text/plain": [
       "array([[False, False, False, False, False,  True,  True,  True],\n",
       "       [False, False, False, False, False,  True,  True,  True],\n",
       "       [False, False, False, False, False,  True,  True,  True],\n",
       "       [False, False, False, False, False,  True,  True,  True],\n",
       "       [False, False, False, False, False,  True,  True,  True],\n",
       "       [False, False, False, False, False,  True,  True,  True],\n",
       "       [False, False, False, False, False,  True,  True,  True],\n",
       "       [False, False, False, False, False,  True,  True,  True]])"
      ]
     },
     "execution_count": 45,
     "metadata": {},
     "output_type": "execute_result"
    }
   ],
   "source": [
    "# Tablice indeksujące mogą przybrać też formę masek o wartościach prawda-fałsz. Biorąc pod uwagę możliwości działań na tablicach tworzenie takich masek jest bardzo wygodne.\n",
    "sample_matrix > 4"
   ]
  },
  {
   "cell_type": "code",
   "execution_count": 46,
   "metadata": {},
   "outputs": [
    {
     "data": {
      "text/plain": [
       "array([5, 6, 7, 5, 6, 7, 5, 6, 7, 5, 6, 7, 5, 6, 7, 5, 6, 7, 5, 6, 7, 5,\n",
       "       6, 7])"
      ]
     },
     "execution_count": 46,
     "metadata": {},
     "output_type": "execute_result"
    }
   ],
   "source": [
    "# Zaaplikujmy teraz powstałą maskę, aby łatwo odfiltrować wartości tablicy.\n",
    "sample_matrix[sample_matrix > 4]"
   ]
  },
  {
   "cell_type": "markdown",
   "metadata": {},
   "source": [
    "### Ćwiczenie 3.\n",
    "Utwórz macierz o wymiarach 7x7 o wartościach wylosowanych z rozkładu normalnego o średniej 5 i odchyleniu standardowym 2. Ile jest w niej wartości wyższych od 2,4,6,8?"
   ]
  },
  {
   "cell_type": "code",
   "execution_count": 78,
   "metadata": {},
   "outputs": [
    {
     "data": {
      "text/plain": [
       "array([[ 6.70077193, 10.19501437,  4.90123799,  8.46999682,  7.70265192,\n",
       "         3.81603961,  4.76126554],\n",
       "       [ 3.54896847,  6.74507401,  4.44536251,  1.42500042,  8.65188717,\n",
       "         3.85753338,  6.52515766],\n",
       "       [ 0.90091353,  1.95611555,  0.61015565,  7.54609191,  3.98942454,\n",
       "         6.29321372,  6.87969962],\n",
       "       [ 7.2702035 ,  3.66998853,  8.94795564,  5.82179478,  2.69816606,\n",
       "         3.08002987,  6.55748385],\n",
       "       [ 4.79792196,  6.48468095,  6.56741178,  4.72684288,  6.02466077,\n",
       "         4.52041282,  2.33323213],\n",
       "       [ 5.14935554,  5.12391147,  4.2584114 ,  4.72878403,  5.78632299,\n",
       "         3.37900243,  5.71651842],\n",
       "       [ 5.94903493,  1.12260319,  2.33429642,  4.61117885, -1.68049589,\n",
       "         6.41639096,  3.62891527]])"
      ]
     },
     "execution_count": 78,
     "metadata": {},
     "output_type": "execute_result"
    }
   ],
   "source": [
    "my_matrix = np.random.normal(loc=5.0, scale=2.0, size=[7,7])\n",
    "my_matrix"
   ]
  },
  {
   "cell_type": "code",
   "execution_count": 90,
   "metadata": {},
   "outputs": [
    {
     "name": "stdout",
     "output_type": "stream",
     "text": [
      "[[ True  True  True  True  True  True  True]\n",
      " [ True  True  True False  True  True  True]\n",
      " [False False False  True  True  True  True]\n",
      " [ True  True  True  True  True  True  True]\n",
      " [ True  True  True  True  True  True  True]\n",
      " [ True  True  True  True  True  True  True]\n",
      " [ True False  True  True False  True  True]]\n"
     ]
    },
    {
     "data": {
      "text/plain": [
       "43"
      ]
     },
     "execution_count": 90,
     "metadata": {},
     "output_type": "execute_result"
    }
   ],
   "source": [
    "print(my_matrix>2)\n",
    "len(my_matrix[my_matrix>2])"
   ]
  },
  {
   "cell_type": "code",
   "execution_count": 89,
   "metadata": {},
   "outputs": [
    {
     "name": "stdout",
     "output_type": "stream",
     "text": [
      "[[ True  True  True  True  True False  True]\n",
      " [False  True  True False  True False  True]\n",
      " [False False False  True False  True  True]\n",
      " [ True False  True  True False False  True]\n",
      " [ True  True  True  True  True  True False]\n",
      " [ True  True  True  True  True False  True]\n",
      " [ True False False  True False  True False]]\n"
     ]
    },
    {
     "data": {
      "text/plain": [
       "32"
      ]
     },
     "execution_count": 89,
     "metadata": {},
     "output_type": "execute_result"
    }
   ],
   "source": [
    "print(my_matrix>4)\n",
    "len(my_matrix[my_matrix>4])"
   ]
  },
  {
   "cell_type": "code",
   "execution_count": null,
   "metadata": {},
   "outputs": [],
   "source": [
    "tablica=np.random.normal(loc=5.0, scale=2.0, size=[7,7])\n",
    " \n",
    "for i in range(2,10,2):\n",
    "    print(tablica[tablica>i].__len__())\n",
    " "
   ]
  },
  {
   "cell_type": "code",
   "execution_count": 88,
   "metadata": {},
   "outputs": [
    {
     "name": "stdout",
     "output_type": "stream",
     "text": [
      "[[ True  True False  True  True False False]\n",
      " [False  True False False  True False  True]\n",
      " [False False False  True False  True  True]\n",
      " [ True False  True False False False  True]\n",
      " [False  True  True False  True False False]\n",
      " [False False False False False False False]\n",
      " [False False False False False  True False]]\n"
     ]
    },
    {
     "data": {
      "text/plain": [
       "17"
      ]
     },
     "execution_count": 88,
     "metadata": {},
     "output_type": "execute_result"
    }
   ],
   "source": [
    "print(my_matrix>6)\n",
    "len(my_matrix[my_matrix>6])"
   ]
  },
  {
   "cell_type": "code",
   "execution_count": 87,
   "metadata": {},
   "outputs": [
    {
     "name": "stdout",
     "output_type": "stream",
     "text": [
      "[[False  True False  True False False False]\n",
      " [False False False False  True False False]\n",
      " [False False False False False False False]\n",
      " [False False  True False False False False]\n",
      " [False False False False False False False]\n",
      " [False False False False False False False]\n",
      " [False False False False False False False]]\n"
     ]
    },
    {
     "data": {
      "text/plain": [
       "4"
      ]
     },
     "execution_count": 87,
     "metadata": {},
     "output_type": "execute_result"
    }
   ],
   "source": [
    "print(my_matrix>8)\n",
    "len(my_matrix[my_matrix>8])"
   ]
  },
  {
   "cell_type": "markdown",
   "metadata": {},
   "source": [
    "### Operacje numeryczne na tablicach\n",
    "Poza strukturą tablicy NumPy zawiera bardzo rozwinięty pakiet operacji algebraicznych. Po pierwsze są w nim zaimplementowane odpowiedniki praktycznie całego modułu math z biblioteki standardowej. Po drugie rozwinięty pakiet numpy.linalg dostarcza zoptymalizowane operacje algebry liniowej oparte o BLAS i LAPACK."
   ]
  },
  {
   "cell_type": "code",
   "execution_count": 91,
   "metadata": {},
   "outputs": [],
   "source": [
    "# Stwórzmy kilka tablic i macierzy do dalszych działań\n",
    "sample_vector_1 = np.array([0,1,2,3,4,5])\n",
    "sample_vector_2 = np.array([4,5,6,7,8,9])\n",
    "\n",
    "sample_matrix_1 = np.array([[1,2],\n",
    "                            [1,2],\n",
    "                            [1,2]])\n",
    "\n",
    "sample_matrix_2 = np.array([[0,1,0],\n",
    "                            [0,1,0],\n",
    "                            [0,1,0]])\n",
    "\n",
    "sample_matrix_3 = np.array([[2,4,6],\n",
    "                            [2,4,6],\n",
    "                            [2,4,6]])"
   ]
  },
  {
   "cell_type": "code",
   "execution_count": 92,
   "metadata": {},
   "outputs": [
    {
     "data": {
      "text/plain": [
       "np.int64(15)"
      ]
     },
     "execution_count": 92,
     "metadata": {},
     "output_type": "execute_result"
    }
   ],
   "source": [
    "# Podobnie jak pythonową listę, NumPy pozwala łatwo zsumować wartości tablicy.\n",
    "np.sum(sample_vector_1)"
   ]
  },
  {
   "cell_type": "code",
   "execution_count": 93,
   "metadata": {},
   "outputs": [
    {
     "data": {
      "text/plain": [
       "np.float64(1.5)"
      ]
     },
     "execution_count": 93,
     "metadata": {},
     "output_type": "execute_result"
    }
   ],
   "source": [
    "# Dostarcza jednak wiele więcej operacji takich, jak średnia.\n",
    "np.mean(sample_matrix_1)"
   ]
  },
  {
   "cell_type": "code",
   "execution_count": 94,
   "metadata": {},
   "outputs": [
    {
     "data": {
      "text/plain": [
       "array([16, 25, 36, 49, 64, 81])"
      ]
     },
     "execution_count": 94,
     "metadata": {},
     "output_type": "execute_result"
    }
   ],
   "source": [
    "# Możemy zapisywać operacje tablica-skalar tak, jak standardowe operacje liczbowe w pierwszym konspekcie.\n",
    "sample_vector_2 ** 2"
   ]
  },
  {
   "cell_type": "code",
   "execution_count": 95,
   "metadata": {},
   "outputs": [
    {
     "data": {
      "text/plain": [
       "array([ 4,  6,  8, 10, 12, 14])"
      ]
     },
     "execution_count": 95,
     "metadata": {},
     "output_type": "execute_result"
    }
   ],
   "source": [
    "# Jeśli wymiary są zgodne (takie same, lub wymiar jednego obiektu możemy uzyskać multiplikując wymiar drugiego), to możemy podobnie operować na poziomie tablica-tablica.\n",
    "sample_vector_1 + sample_vector_2"
   ]
  },
  {
   "cell_type": "code",
   "execution_count": 96,
   "metadata": {},
   "outputs": [
    {
     "data": {
      "text/plain": [
       "array([[ 4,  6,  8, 10, 12, 14],\n",
       "       [ 4,  6,  8, 10, 12, 14]])"
      ]
     },
     "execution_count": 96,
     "metadata": {},
     "output_type": "execute_result"
    }
   ],
   "source": [
    "sample_vector_1 + np.array([[4,5,6,7,8,9],\n",
    "                            [4,5,6,7,8,9]])"
   ]
  },
  {
   "cell_type": "code",
   "execution_count": 97,
   "metadata": {},
   "outputs": [
    {
     "name": "stdout",
     "output_type": "stream",
     "text": [
      "add(x1, x2, /, out=None, *, where=True, casting='same_kind', order='K', dtype=None, subok=True[, signature])\n",
      "\n",
      "Add arguments element-wise.\n",
      "\n",
      "Parameters\n",
      "----------\n",
      "x1, x2 : array_like\n",
      "    The arrays to be added.\n",
      "    If ``x1.shape != x2.shape``, they must be broadcastable to a common\n",
      "    shape (which becomes the shape of the output).\n",
      "out : ndarray, None, or tuple of ndarray and None, optional\n",
      "    A location into which the result is stored. If provided, it must have\n",
      "    a shape that the inputs broadcast to. If not provided or None,\n",
      "    a freshly-allocated array is returned. A tuple (possible only as a\n",
      "    keyword argument) must have length equal to the number of outputs.\n",
      "where : array_like, optional\n",
      "    This condition is broadcast over the input. At locations where the\n",
      "    condition is True, the `out` array will be set to the ufunc result.\n",
      "    Elsewhere, the `out` array will retain its original value.\n",
      "    Note that if an uninitialized `out` array is created via the default\n",
      "    ``out=None``, locations within it where the condition is False will\n",
      "    remain uninitialized.\n",
      "**kwargs\n",
      "    For other keyword-only arguments, see the\n",
      "    :ref:`ufunc docs <ufuncs.kwargs>`.\n",
      "\n",
      "Returns\n",
      "-------\n",
      "add : ndarray or scalar\n",
      "    The sum of `x1` and `x2`, element-wise.\n",
      "    This is a scalar if both `x1` and `x2` are scalars.\n",
      "\n",
      "Notes\n",
      "-----\n",
      "Equivalent to `x1` + `x2` in terms of array broadcasting.\n",
      "\n",
      "Examples\n",
      "--------\n",
      ">>> import numpy as np\n",
      ">>> np.add(1.0, 4.0)\n",
      "5.0\n",
      ">>> x1 = np.arange(9.0).reshape((3, 3))\n",
      ">>> x2 = np.arange(3.0)\n",
      ">>> np.add(x1, x2)\n",
      "array([[  0.,   2.,   4.],\n",
      "       [  3.,   5.,   7.],\n",
      "       [  6.,   8.,  10.]])\n",
      "\n",
      "The ``+`` operator can be used as a shorthand for ``np.add`` on ndarrays.\n",
      "\n",
      ">>> x1 = np.arange(9.0).reshape((3, 3))\n",
      ">>> x2 = np.arange(3.0)\n",
      ">>> x1 + x2\n",
      "array([[ 0.,  2.,  4.],\n",
      "       [ 3.,  5.,  7.],\n",
      "       [ 6.,  8., 10.]])\n"
     ]
    }
   ],
   "source": [
    "print(np.add.__doc__)"
   ]
  },
  {
   "cell_type": "code",
   "execution_count": 98,
   "metadata": {},
   "outputs": [
    {
     "data": {
      "text/plain": [
       "array([ 4,  6,  8, 10, 12, 14])"
      ]
     },
     "execution_count": 98,
     "metadata": {},
     "output_type": "execute_result"
    }
   ],
   "source": [
    "# NumPy zawiera też jednak dedykowane funkcje, których działanie możemy dodatkowo modyfikować parametrami. Przykładowo poniżej wynik pierwszej operacji nadpisuje pierwszy wektor.\n",
    "np.add(sample_vector_1, sample_vector_2, out=sample_vector_1)"
   ]
  },
  {
   "cell_type": "code",
   "execution_count": 99,
   "metadata": {},
   "outputs": [
    {
     "data": {
      "text/plain": [
       "np.int64(1)"
      ]
     },
     "execution_count": 99,
     "metadata": {},
     "output_type": "execute_result"
    }
   ],
   "source": [
    "# Poniżej pojedyncza deklaracja pozwalająca nam wyliczyć rząd macierzy (miara wymiarów przestrzeni wektorowej rozpiętej przez wektory jej rzędów)\n",
    "np.linalg.matrix_rank(sample_matrix_3)"
   ]
  },
  {
   "cell_type": "code",
   "execution_count": null,
   "metadata": {},
   "outputs": [],
   "source": [
    "sample_matrix_2 * sample_matrix_3"
   ]
  },
  {
   "cell_type": "code",
   "execution_count": null,
   "metadata": {},
   "outputs": [],
   "source": [
    "# Mnożenie macierzy\n",
    "sample_matrix_2 @ sample_matrix_3"
   ]
  },
  {
   "cell_type": "markdown",
   "metadata": {},
   "source": [
    "### Manipulacje wymiarami tablic\n",
    "Tablice NumPy przechowywane są zawsze jako ciągły blok w pamięci. Kształt tablicy w programie nie ma więc wpływu na jej zapis w pamięci, ale ma duży wpływ na to, jak wykonujemy na niej operacje. Dane, które wczytujemy nie zawsze przyjmują pożądany przez nas kształt a w wyniku niektórych operacji możemy spłaszczyć tabelę, lub w inny sposób zmienić jej wymiary. W takich sytuacjach możemy żyć wachlarza narzędzi operujących na kształcie tablic."
   ]
  },
  {
   "cell_type": "code",
   "execution_count": 100,
   "metadata": {},
   "outputs": [
    {
     "data": {
      "text/plain": [
       "(3, 3)"
      ]
     },
     "execution_count": 100,
     "metadata": {},
     "output_type": "execute_result"
    }
   ],
   "source": [
    "# Każda tablica posiada atrybut opiszujący jej kształt.\n",
    "sample_matrix_2.shape"
   ]
  },
  {
   "cell_type": "code",
   "execution_count": 101,
   "metadata": {},
   "outputs": [
    {
     "ename": "ValueError",
     "evalue": "operands could not be broadcast together with shapes (3,2) (6,) ",
     "output_type": "error",
     "traceback": [
      "\u001b[31m---------------------------------------------------------------------------\u001b[39m",
      "\u001b[31mValueError\u001b[39m                                Traceback (most recent call last)",
      "\u001b[36mCell\u001b[39m\u001b[36m \u001b[39m\u001b[32mIn[101]\u001b[39m\u001b[32m, line 2\u001b[39m\n\u001b[32m      1\u001b[39m \u001b[38;5;66;03m# Niezgodność wymiarów może przeszkodzić nam w wykonaniu operacji. Przykładowa macierz i wektor mają tyle samo elementów, ale ułożonych w inny kształt.\u001b[39;00m\n\u001b[32m----> \u001b[39m\u001b[32m2\u001b[39m \u001b[43msample_matrix_1\u001b[49m\u001b[43m \u001b[49m\u001b[43m*\u001b[49m\u001b[43m \u001b[49m\u001b[43msample_vector_1\u001b[49m\n",
      "\u001b[31mValueError\u001b[39m: operands could not be broadcast together with shapes (3,2) (6,) "
     ]
    }
   ],
   "source": [
    "# Niezgodność wymiarów może przeszkodzić nam w wykonaniu operacji. Przykładowa macierz i wektor mają tyle samo elementów, ale ułożonych w inny kształt.\n",
    "sample_matrix_1 * sample_vector_1"
   ]
  },
  {
   "cell_type": "code",
   "execution_count": 103,
   "metadata": {},
   "outputs": [
    {
     "data": {
      "text/plain": [
       "array([ 4, 12,  8, 20, 12, 28])"
      ]
     },
     "execution_count": 103,
     "metadata": {},
     "output_type": "execute_result"
    }
   ],
   "source": [
    "# Aby wykonać operację możemy na przykład spłaszczyć macierz do kształtu wektora.\n",
    "sample_matrix_1.flat * sample_vector_1"
   ]
  },
  {
   "cell_type": "code",
   "execution_count": 104,
   "metadata": {},
   "outputs": [
    {
     "data": {
      "text/plain": [
       "array([[ 4, 12],\n",
       "       [ 8, 20],\n",
       "       [12, 28]])"
      ]
     },
     "execution_count": 104,
     "metadata": {},
     "output_type": "execute_result"
    }
   ],
   "source": [
    "# Jeśli jednak zależy nam na utrzymaniu wymiarów macierzy, to możemy użyć na koniec funkcji reshape, która nadaje tablic ustalony kształt zgodny z jej liczba elementów.\n",
    "np.multiply(sample_matrix_1.flat, sample_vector_1).reshape((3, 2))"
   ]
  },
  {
   "cell_type": "code",
   "execution_count": null,
   "metadata": {},
   "outputs": [],
   "source": [
    "print(sample_matrix_1.size)\n",
    "sample_matrix_1.reshape((3, -1)).shape  # -1 oznacza \"cokolwiek pasuje\""
   ]
  },
  {
   "cell_type": "code",
   "execution_count": null,
   "metadata": {},
   "outputs": [],
   "source": [
    "# Możemy łączyć ze sobą wektory tak, jak listy w pythonie.\n",
    "np.concatenate((sample_vector_1, sample_vector_2))"
   ]
  },
  {
   "cell_type": "code",
   "execution_count": null,
   "metadata": {},
   "outputs": [],
   "source": [
    "# W przypadku wyżej wymiarowych tablic natomiast paleta operacji jest bogatsza i wyraża różne sposoby doklejania.\n",
    "np.vstack((sample_matrix_2, sample_matrix_3))"
   ]
  },
  {
   "cell_type": "code",
   "execution_count": null,
   "metadata": {},
   "outputs": [],
   "source": [
    "np.hstack((sample_matrix_2, sample_matrix_3))"
   ]
  },
  {
   "cell_type": "code",
   "execution_count": null,
   "metadata": {},
   "outputs": [],
   "source": [
    "np.dstack((sample_matrix_2, sample_matrix_3))"
   ]
  },
  {
   "cell_type": "code",
   "execution_count": null,
   "metadata": {},
   "outputs": [],
   "source": [
    "np.stack((sample_matrix_2, sample_matrix_3), axis=2)"
   ]
  },
  {
   "cell_type": "markdown",
   "metadata": {},
   "source": [
    "### Ćwiczenie 4\n",
    "Zacznij od tablicy z ćwiczenia 1. Dodaj drugą tablicę o takim samym rozmiarze z \"szumem\" wylosowanym z rozkładu normalnego o średniej zero i odchyleniu standardowym 0.5. Wylicz średnią dla każdego rzędu."
   ]
  },
  {
   "cell_type": "code",
   "execution_count": 105,
   "metadata": {},
   "outputs": [
    {
     "name": "stdout",
     "output_type": "stream",
     "text": [
      "[1.63231903e-02 6.99911351e+00 1.41572447e+01 2.10747744e+01\n",
      " 2.80582822e+01 3.49486735e+01]\n"
     ]
    }
   ],
   "source": [
    "m1 = np.linspace([0.0, 0.0, 0.0, 0.0, 0.0, 0.0], [10., 20., 30., 40., 50., 60], 6)\n",
    "m2 = np.random.normal(loc=0.0, scale=0.5, size=[6,6])\n",
    "\n",
    "m3 = np.add(m1, m2)\n",
    "\n",
    "row_mean = np.mean(m3, axis=1)\n",
    "print(row_mean)"
   ]
  },
  {
   "cell_type": "code",
   "execution_count": null,
   "metadata": {},
   "outputs": [],
   "source": []
  },
  {
   "cell_type": "code",
   "execution_count": 106,
   "metadata": {},
   "outputs": [
    {
     "name": "stdout",
     "output_type": "stream",
     "text": [
      "[-8.85071903e-03  7.04592932e+00  1.39319233e+01  2.10200785e+01\n",
      "  2.83082145e+01  3.48702623e+01]\n"
     ]
    }
   ],
   "source": [
    "sample_matrix_1 = np.linspace(np.zeros(6), np.arange(10,60.1,10), 6);\n",
    "szum = np.random.normal(loc=0, scale=0.5, size=sample_matrix_1.shape)\n",
    "matrix = sample_matrix_1 + szum\n",
    "# print(matrix)\n",
    "print(matrix.mean(axis=1))"
   ]
  },
  {
   "cell_type": "markdown",
   "metadata": {},
   "source": [
    "### Typy danych\n",
    "NumPy pozwala na znacznie większy poziom kontroli nad typami danych zawartymi w tablicach. Możemy na przykład okreslić, że w danej tablicy będa zawierały się elementy o konkretnym typie całkowitym reprezentowanym przez mniejsza ilość bajtów, niż pythonowy int (konkretne rozmiary są zależne od platformy). Poza optymalizacją pamięciową i wydajnościową mamy też dostęp do innych całkiem ciekawych typów i możemy nawet definiować własne."
   ]
  },
  {
   "cell_type": "code",
   "execution_count": null,
   "metadata": {},
   "outputs": [],
   "source": [
    "# Szczególnie przydatny jest typ datetime opisujący datę oraz godzinę\n",
    "yesterday = np.datetime64('today') - np.timedelta64(1)\n",
    "today     = np.datetime64('today')\n",
    "tomorrow_noon  = np.datetime64('today') + np.timedelta64(1) + np.timedelta64(12, 'h')\n",
    "tomorrow_noon"
   ]
  },
  {
   "cell_type": "code",
   "execution_count": null,
   "metadata": {},
   "outputs": [],
   "source": [
    "# Wykorzystując poznane wcześniej operacje na zakresach możemy uzyskać bardzo ciekawe wyniki. Poniżej wypisanie dat z kalendarza z lipca 2016 roku.\n",
    "Z = np.arange('2016-07', '2016-08', dtype='datetime64[D]')\n",
    "print(Z)"
   ]
  },
  {
   "cell_type": "code",
   "execution_count": 107,
   "metadata": {},
   "outputs": [
    {
     "data": {
      "text/plain": [
       "dtype([('r', 'u1'), ('g', 'u1'), ('b', 'u1'), ('a', 'u1')])"
      ]
     },
     "execution_count": 107,
     "metadata": {},
     "output_type": "execute_result"
    }
   ],
   "source": [
    "# Utwórzmy teraz własny typ danych reprezentujący kolor jako cztery nieoznakowane bajty (RGBA).\n",
    "dt = np.dtype([(\"r\", np.ubyte), (\"g\", np.ubyte), (\"b\", np.ubyte), (\"a\", np.ubyte)])\n",
    "dt"
   ]
  },
  {
   "cell_type": "markdown",
   "metadata": {},
   "source": [
    "#### Przykład: Wektoryzacja random walkera\n",
    "Przyjrzyjmy się RandomWalkerowi z pierwszego konspektu. Jak bardzo moglibyśmy go przyspieszyć wykorzystując zwektoryzowane operacje z NumPy?"
   ]
  },
  {
   "cell_type": "code",
   "execution_count": null,
   "metadata": {},
   "outputs": [],
   "source": [
    "from typing import List, Generator\n",
    "\n",
    "class RandomWalker:\n",
    "    def __init__(self):\n",
    "        self.position = [0.0,0.0]\n",
    "\n",
    "    def walk(self, n) -> Generator[float]:\n",
    "        for _ in range(n):\n",
    "            yield self.position.copy()\n",
    "            self.position[0] += random.uniform(-1.0, 1.0)\n",
    "            self.position[1] += random.uniform(-1.0, 1.0)"
   ]
  },
  {
   "cell_type": "code",
   "execution_count": null,
   "metadata": {},
   "outputs": [],
   "source": [
    "class RandomWalkerNp:\n",
    "    def __init__(self):\n",
    "        self.position = np.zeros((1,2))\n",
    "\n",
    "    def walk(self, n) -> List[float]:\n",
    "        steps = np.concatenate((self.position, np.random.uniform(-1.0, 1.0, (n,2))))\n",
    "        positions = np.cumsum(steps, 0)\n",
    "        self.position = positions[-1]\n",
    "        return positions"
   ]
  },
  {
   "cell_type": "code",
   "execution_count": null,
   "metadata": {},
   "outputs": [],
   "source": [
    "walker = RandomWalker()\n",
    "t_start = perf_counter()\n",
    "list(walker.walk(10**POWER))\n",
    "t_end = perf_counter()\n",
    "t_end - t_start"
   ]
  },
  {
   "cell_type": "code",
   "execution_count": null,
   "metadata": {},
   "outputs": [],
   "source": [
    "fast_walker = RandomWalkerNp()\n",
    "t_start = perf_counter()\n",
    "path = fast_walker.walk(10**POWER)\n",
    "t_end = perf_counter()\n",
    "t_end - t_start"
   ]
  },
  {
   "cell_type": "markdown",
   "metadata": {},
   "source": [
    "## 4. Zadania\n",
    "1. Odwróć wektor (ostatni element ma znaleźć się na początku itd.).\n",
    "2. Utwórz tablicę 10x10 z losowymi wartościami i znajdź jej wartość średnią, minimalną i maksymalną.\n",
    "3. Utwórz tablicę 3-wymiarową z elementami o wartości 1. Następnie utwórz drugą tablicę, która zawiera pierwszą tablicę otoczoną zerami (1 wewnątrz i 0 na obrzeżu).\n",
    "4. Jak znaleźć najbliższą wartość (danemu skalarowi) w wektorze?\n",
    "5. Jak zamienić miejscami dwa wiersze tablicy?\n",
    "6. ★ Rozważmy dany wektor, jak dodać 1 do każdego elementu indeksowanego przez drugi wektor?\n",
    "7. ★ Wykonaj zadanie 6 z poprzednich zajęć wykorzystując typy NumPy'owe i obliczenia zwektoryzowane. Zmierz, jakie przyspieszenie udało Ci się uzyskać."
   ]
  },
  {
   "cell_type": "markdown",
   "metadata": {},
   "source": [
    "Zadanie 1. Odwróć wektor (ostatni element ma znaleźć się na początku itd.)."
   ]
  },
  {
   "cell_type": "code",
   "execution_count": 111,
   "metadata": {},
   "outputs": [
    {
     "data": {
      "text/plain": [
       "[5, 4, 3, 2, 1]"
      ]
     },
     "execution_count": 111,
     "metadata": {},
     "output_type": "execute_result"
    }
   ],
   "source": [
    "v = [1,2,3,4,5]\n",
    "\n",
    "v[::-1]"
   ]
  },
  {
   "cell_type": "markdown",
   "metadata": {},
   "source": [
    "Zadanie 2. Utwórz tablicę 10x10 z losowymi wartościami i znajdź jej wartość średnią, minimalną i maksymalną."
   ]
  },
  {
   "cell_type": "code",
   "execution_count": 141,
   "metadata": {},
   "outputs": [
    {
     "data": {
      "text/plain": [
       "array([[8, 2, 5, 6, 5, 6, 3, 1, 3, 3],\n",
       "       [0, 5, 5, 6, 2, 3, 3, 5, 3, 4],\n",
       "       [0, 2, 7, 9, 0, 5, 5, 2, 5, 0],\n",
       "       [0, 4, 7, 0, 9, 6, 9, 1, 3, 2],\n",
       "       [0, 2, 0, 4, 8, 4, 2, 9, 2, 0],\n",
       "       [1, 9, 5, 6, 3, 2, 2, 0, 2, 8],\n",
       "       [7, 5, 8, 8, 2, 4, 2, 9, 2, 0],\n",
       "       [9, 5, 2, 2, 1, 0, 8, 9, 6, 3],\n",
       "       [2, 2, 8, 9, 8, 9, 6, 6, 3, 3],\n",
       "       [0, 0, 5, 4, 5, 4, 6, 4, 1, 7]], dtype=int32)"
      ]
     },
     "execution_count": 141,
     "metadata": {},
     "output_type": "execute_result"
    }
   ],
   "source": [
    "mytable = np.random.randint(low=0, high=10, size=[10,10])\n",
    "mytable\n",
    "\n"
   ]
  },
  {
   "cell_type": "code",
   "execution_count": 147,
   "metadata": {},
   "outputs": [
    {
     "name": "stdout",
     "output_type": "stream",
     "text": [
      "1): 4.07\n",
      "2): 4.07\n",
      "0\n",
      "9\n",
      "0\n",
      "9\n",
      "2.8539621581233345\n",
      "2.8539621581233345\n"
     ]
    }
   ],
   "source": [
    "avg = sum(sum(mytable))/(len(mytable)*len(mytable))\n",
    "avg1 = np.mean(mytable)\n",
    "print(f\"1): {avg}\")\n",
    "print(f\"2): {avg1}\")\n",
    "\n",
    "mymin = np.min(mytable)\n",
    "mymax = np.max(mytable)\n",
    "\n",
    "print(mymin)\n",
    "print(mymax)\n",
    "\n",
    "print(mytable.min())\n",
    "print(mytable.max())\n",
    "\n",
    "std = np.std(mytable)\n",
    "print(std)\n",
    "print(mytable.std())"
   ]
  },
  {
   "cell_type": "markdown",
   "metadata": {},
   "source": [
    "Zadanie 3. Utwórz tablicę 3-wymiarową z elementami o wartości 1. Następnie utwórz drugą tablicę, która zawiera pierwszą tablicę otoczoną zerami (1 wewnątrz i 0 na obrzeżu)."
   ]
  },
  {
   "cell_type": "code",
   "execution_count": 144,
   "metadata": {},
   "outputs": [
    {
     "data": {
      "text/plain": [
       "array([[1., 0., 0.],\n",
       "       [0., 1., 0.],\n",
       "       [0., 0., 1.]])"
      ]
     },
     "execution_count": 144,
     "metadata": {},
     "output_type": "execute_result"
    }
   ],
   "source": [
    "mytable3 = np.eye(3)\n",
    "mytable3\n",
    "# mymin = np.random.normal(loc=0.0, scale=0.5, size=[6,6])\n",
    "# mymax = np.add(m1, m2)\n",
    "# row_mean = np.mean(m3, axis=1)\n",
    "# print(row_mean)"
   ]
  }
 ],
 "metadata": {
  "kernelspec": {
   "display_name": "venv",
   "language": "python",
   "name": "python3"
  },
  "language_info": {
   "codemirror_mode": {
    "name": "ipython",
    "version": 3
   },
   "file_extension": ".py",
   "mimetype": "text/x-python",
   "name": "python",
   "nbconvert_exporter": "python",
   "pygments_lexer": "ipython3",
   "version": "3.13.9"
  },
  "orig_nbformat": 4
 },
 "nbformat": 4,
 "nbformat_minor": 2
}
