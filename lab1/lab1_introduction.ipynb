{
 "cells": [
  {
   "cell_type": "markdown",
   "metadata": {},
   "source": [
    "# Języki programowania w Data Science (Python)\n",
    "\n",
    "## 1. Ankieta na wstęp\n",
    "https://forms.gle/L5KXFDErp8NRJJx79\n",
    "\n"
   ]
  },
  {
   "cell_type": "markdown",
   "metadata": {},
   "source": [
    "## 2. Krótki wstęp do pythona\n",
    "\n",
    "### 2.1 Najważniejsze cechy\n",
    "\n",
    " - język operujący na wysokim poziomie abstrakcji\n",
    " - interpretowany (CPython, ale istnieją alternatywy)\n",
    " - łączy elementy wielu paradygmatów programowania (proceduralne, obiektowe, funkcyjne)\n",
    " - dynamiczne typowanie\n",
    " - ogromna ilość bilbiotek\n",
    "\n",
    "### 2.2 Typy liczbowe i operacje na nich"
   ]
  },
  {
   "cell_type": "code",
   "execution_count": null,
   "metadata": {},
   "outputs": [],
   "source": [
    "# Najprostszym typem jest boolean reprezentujący wartości prawdy i fałszu w algebrze Boole'owskiej\n",
    "type(True)"
   ]
  },
  {
   "cell_type": "code",
   "execution_count": null,
   "metadata": {},
   "outputs": [],
   "source": [
    "# Równość zapisujemy dwoma znakami '==' a nierówność '!='\n",
    "True != False"
   ]
  },
  {
   "cell_type": "code",
   "execution_count": null,
   "metadata": {},
   "outputs": [],
   "source": [
    "# Operacje logiczne 'lub' oraz 'i' zapisujemy jako 'or' oraz 'and'\n",
    "True and False"
   ]
  },
  {
   "cell_type": "code",
   "execution_count": null,
   "metadata": {},
   "outputs": [],
   "source": [
    "# Liczby całkowite reprezentowane są przez int (integer)\n",
    "type(-3)"
   ]
  },
  {
   "cell_type": "code",
   "execution_count": null,
   "metadata": {},
   "outputs": [],
   "source": [
    "3 - 2 * 4"
   ]
  },
  {
   "cell_type": "code",
   "execution_count": null,
   "metadata": {},
   "outputs": [],
   "source": [
    "# Wartość bezwzględną otrzymujemy wykorzystując funkcję abs\n",
    "abs(-5)"
   ]
  },
  {
   "cell_type": "code",
   "execution_count": null,
   "metadata": {},
   "outputs": [],
   "source": [
    "# Operacje porównania na cyfrach zwrócą wartości logiczne\n",
    "4 >= 2"
   ]
  },
  {
   "cell_type": "code",
   "execution_count": null,
   "metadata": {},
   "outputs": [],
   "source": [
    "# Dzielenie zawsze zmienia typ wyniku na zmiennoprzecinkowy\n",
    "13 / 6"
   ]
  },
  {
   "cell_type": "code",
   "execution_count": null,
   "metadata": {},
   "outputs": [],
   "source": [
    "# Chyba, że zastosujemy dzielenie całkowitoliczbowe, które zwróci nam wynik bez reszty\n",
    "13 // 6"
   ]
  },
  {
   "cell_type": "code",
   "execution_count": null,
   "metadata": {},
   "outputs": [],
   "source": [
    "# Aby uzyskać resztę z dzielenia stosujemy operator modulo reprezentowany przez %\n",
    "13 % 6"
   ]
  },
  {
   "cell_type": "code",
   "execution_count": null,
   "metadata": {},
   "outputs": [],
   "source": [
    "# Liczby rzeczywiste reprezentowane są przez float (floating-point od zmiennego położenia przecinka)\n",
    "type(3.0)"
   ]
  },
  {
   "cell_type": "code",
   "execution_count": null,
   "metadata": {},
   "outputs": [],
   "source": [
    "# Ze względu na ograniczenia urządzeń cyfrowych liczby zmiennoprzecinkowe reprezentują jedynie podzbiór liczb rzeczywistych, czego rezultatem są błędy obliczeniowe\n",
    "3.2 - 2.05 * 4.0"
   ]
  },
  {
   "cell_type": "code",
   "execution_count": null,
   "metadata": {},
   "outputs": [],
   "source": [
    "# Znaczenie ma również kolejność wykonywania działań. Szczególnie jeśli operujemy na liczbach o znacząco różnej mantysie.\n",
    "print((1234.567 + 45.67834) + 0.0004)\n",
    "print(1234.567 + (45.67834 + 0.0004))"
   ]
  },
  {
   "cell_type": "code",
   "execution_count": null,
   "metadata": {},
   "outputs": [],
   "source": [
    "# Notacja naukowa\n",
    "1.1e-5 + 1.0"
   ]
  },
  {
   "cell_type": "code",
   "execution_count": null,
   "metadata": {},
   "outputs": [],
   "source": [
    "# Liczby zespolone (przydają się w zaskakujących momentach). Poniżej liczba urojona i, która w pythonie jest po prostu zespoloną o zerowej części rzeczywistej.\n",
    "type(1j)"
   ]
  },
  {
   "cell_type": "code",
   "execution_count": null,
   "metadata": {},
   "outputs": [],
   "source": [
    "complex(1.1, 2) == 1.1 + 2j"
   ]
  },
  {
   "cell_type": "markdown",
   "metadata": {},
   "source": [
    "Zarówno inty jak i floaty mają swoje ograniczenia i w związku z tym inne zadania. Inty służą do dokładnego zliczania a floaty do reprezentacji wartości pomiarowych, gdzie błąd na 15 miejscu po przecinku nie ma dużego znaczenia.\n",
    "\n",
    "### 2.3 Dane tekstowe"
   ]
  },
  {
   "cell_type": "code",
   "execution_count": null,
   "metadata": {},
   "outputs": [],
   "source": [
    "# Dane tekstowe w pythonie reprezentowane są typem str, który jest sekwencją pojedynczych znaków.\n",
    "type('Ala ma kota')"
   ]
  },
  {
   "cell_type": "code",
   "execution_count": null,
   "metadata": {},
   "outputs": [],
   "source": [
    "# Z tego powodu możemy odwołać się do znaku w sekwencji za pomocą jego pozycji (numerujemy od 0).\n",
    "'Ala ma kota'[1]"
   ]
  },
  {
   "cell_type": "code",
   "execution_count": null,
   "metadata": {},
   "outputs": [],
   "source": [
    "# Operacje na napisach i sekwencjach w ogóle mają inne działanie, niż na typach liczbowych. Dodawanie łączy składowe w dłuższą sekwencję.\n",
    "'Ala' + ' ' + 'ma kota'"
   ]
  },
  {
   "cell_type": "code",
   "execution_count": null,
   "metadata": {},
   "outputs": [],
   "source": [
    "# A mnożenie powiela.\n",
    "'ab'*5"
   ]
  },
  {
   "cell_type": "code",
   "execution_count": null,
   "metadata": {},
   "outputs": [],
   "source": [
    "# Typ tekstowy to znaki zamknięte w cudzysłowia. Możemy użyć kilku dostępnych zestawów - \" \", ' ' albo ''' '''.\n",
    "\"Mixing quotes isn't a problem\" # Jeśli chcemy umieścić jeden z cudzysłowów wewnątrz stringa, to musimy użyć innego rodzaju jako zewnętrznego."
   ]
  },
  {
   "cell_type": "code",
   "execution_count": null,
   "metadata": {},
   "outputs": [],
   "source": [
    "# Potrójny apostrof pozwala nam tworzyć napisy wielolinijkowe. Przy wykonaniu komórki pojawią się specjalne symbole \\n oznaczające przejście do kolejnej linii.\n",
    "'''And you\n",
    "can even use\n",
    "multiline'''"
   ]
  },
  {
   "cell_type": "code",
   "execution_count": null,
   "metadata": {},
   "outputs": [],
   "source": [
    "# Istnieją różne symbole specjalne, które zostają potem zinterpretowane do konkretnych elementów tekstowych np. przy wypisaniu przez funkcję print.\n",
    "print(\"Newline \\nTab\\tulation \\nspecific character by its code \\u0104 \\u1234\\nand escaping an escape character \\\\\")"
   ]
  },
  {
   "cell_type": "code",
   "execution_count": null,
   "metadata": {},
   "outputs": [],
   "source": [
    "# Wykorzystując metody charakterystyczne dla string możemy rozdzielić tekst po wyszczególnionym znaku (domyślnie jest to spacja, ale możesz w nawiasy wpisać dowolny tekst np.: 'i').\n",
    "\"String to be divided into words.\".split()"
   ]
  },
  {
   "cell_type": "code",
   "execution_count": null,
   "metadata": {},
   "outputs": [],
   "source": [
    "# Inna metoda usuwa wyszczególnione znaki z obu końców tekstu. Domyślnie są to białe znaki.\n",
    "\"   String with some unnecessary whitespace characters.  \".strip()"
   ]
  },
  {
   "cell_type": "code",
   "execution_count": null,
   "metadata": {},
   "outputs": [],
   "source": [
    "# W różnych przypadkach potrzebujemy zinterpretować wartość jakiegoś typu jako inny typ. używamy wtedy metod konwersji typów albo rzutowania. Metoda chr zwraca znak o zadanym kodzie całkowitym.\n",
    "chr(97) + chr(122)"
   ]
  },
  {
   "cell_type": "code",
   "execution_count": null,
   "metadata": {},
   "outputs": [],
   "source": [
    "# Metoda ord jest odwrotnością chr.\n",
    "ord('a')"
   ]
  },
  {
   "cell_type": "code",
   "execution_count": null,
   "metadata": {},
   "outputs": [],
   "source": [
    "# Jeśli string jest zgodny z tekstową reprezentacją danego typu liczbowego, to możemy go wprost przekonwertować na zadany typ.\n",
    "float('1.1e-5')"
   ]
  },
  {
   "cell_type": "code",
   "execution_count": null,
   "metadata": {},
   "outputs": [],
   "source": [
    "# Natomiast reprezentację tekstową nie tylko liczb, ale w ogóle każdego obiektu w pythonie uzyskujemy wykonując na nim funkcję str.\n",
    "str(complex(1.1, 2))"
   ]
  },
  {
   "cell_type": "markdown",
   "metadata": {},
   "source": [
    "### 2.4 Importowanie dodatkowych funkcjonalności\n",
    "\n",
    "Dużą siłą Pythona jest ogrom narzędzi programistycznych stworzonych przez twórców języka, społeczność i duże korporacje. Podstawowe funkcjonalności dostępne bez dodatkowych importów nazywają się wbudowanymi (built-in). Część z nich zobaczyliśmy już w poprzednich punktach. Kolejnym elementem są pozostałe pakiety biblioteki standardowej języka zawarte w instalacji pythona, ale wymagające zaimportowania. Dla zainteresowanych indeks wszystkich pakietów dostępny jest w dokumentacji https://docs.python.org/3/library/index.html. Jak widać zakres narzędzi dostarczonych przez twórców jest duży. Nie równa się on jednak ilości bibliotek third-party. Instaluje się je za pomocą package managera pip, który pobiera je z repozytorium https://pypi.org. Istnieją popularne alternatywy dla pip takie jak conda (https://docs.conda.io/en/latest/), które pobierają z odrębnych repozytoriów. Kiedy już zainstalujemy potrzebną bibliotekę, możemy zaimportować do naszego modułu jej całość lub wybrane funkcjonalności."
   ]
  },
  {
   "cell_type": "code",
   "execution_count": null,
   "metadata": {},
   "outputs": [],
   "source": [
    "# W ten sposób możemy wypisać cały namespace built-in, czyli nazwy wszystkich wbudowanych obiektów. Poniżej liczba elementów tej listy.\n",
    "print(dir(__builtins__))\n",
    "len(dir(__builtins__))"
   ]
  },
  {
   "cell_type": "code",
   "execution_count": null,
   "metadata": {},
   "outputs": [],
   "source": [
    "# Nazwy podstawowych funkcjonalności można nadpisać, ale nikt rozsądny nie powinien tego robić. Poniżej przykład.\n",
    "min = max\n",
    "print(min(1,24))\n",
    "del min # Na koniec usuwamy nadpisaną funkcję z namespace globals, czyli strefy nazw zmiennych programowych. Interpreter nie znajdzie w niej już min, więc odwoła się do built-ins jak wcześniej.\n",
    "min(1,24)"
   ]
  },
  {
   "cell_type": "code",
   "execution_count": null,
   "metadata": {},
   "outputs": [],
   "source": [
    "# Spróbujmy wykonać taką linijkę kodu.\n",
    "timezone\n",
    "# Jeśli nie zaimportowaliśmy wcześniej nazwy timezone, to pojawi się komunikat NameError.\n",
    "# Oznacza on, że interpreter nie odnalazł takiej nazwy w żadnym namespace."
   ]
  },
  {
   "cell_type": "code",
   "execution_count": null,
   "metadata": {},
   "outputs": [],
   "source": [
    "# Zaimportujmy teraz odpowiednią zmienną z biblioteki standardowej time.\n",
    "from time import timezone\n",
    "timezone # <- Przytrzymaj wciśnięty ctrl i kliknij lewym przyciskiem myszy na zmienną timezone ... Zostałeś przed chwilą odesłany do pliku .pyi specyfikującego interfejs biblioteki time."
   ]
  },
  {
   "cell_type": "code",
   "execution_count": null,
   "metadata": {},
   "outputs": [],
   "source": [
    "# Można zaimportować zawartość całej biblioteki na raz.\n",
    "import time\n",
    "print(time.timezone)\n",
    "# A jeśli nie boimy się zaśmiecić strefy nazw a nie chce nam się pisać za każdym razem nazwy modułu, to możemy zastosować.\n",
    "from time import *\n",
    "print(tzname)\n",
    "# Jeśli wykorzystujemy jakąś funkcjonalność często a nazwa jest za długa, to możemy jej też przypisać alias.\n",
    "from itertools import accumulate as acc\n",
    "acc([1,2,3]).__next__() # Ważne, aby znaleźć balans między zrozumiałością kodu a estetyką. Do Twojej decyzji pozostaje, czy lepsza w danym przypadku będzie nazwa, czy skrót."
   ]
  },
  {
   "cell_type": "code",
   "execution_count": null,
   "metadata": {},
   "outputs": [],
   "source": [
    "# W Twoim środowisku powinny już być zainstalowane biblioteki zewnętrzne. Spróbujmy zaimportować jedną z nich.\n",
    "import pandas as pd # Pandas nie jest szczególnie długą nazwą, ale jako bardzo popularna biblioteka ma tak rozpoznawalny skrót, że każdy zrozumie, co oznacza pd.\n",
    "pd.DataFrame() # <- Ponownie kliknij lewym przyciskiem myszy trzymając wciśnięty ctrl na nazwę DataFrame ...\n",
    "               # W tym przypadku zostałeś przerzucony bezpośrednio do implemetacji. Możesz od razu zerknąć na widniejący pod nazwą docstring opisujący z przykładami jej funkcjonalności."
   ]
  },
  {
   "cell_type": "markdown",
   "metadata": {},
   "source": [
    "### 2.5 Zmienne, instrukcje warunkowe, pętle\n",
    "#### Zmienne, czyli nazwy, do których przypisana jest wartość."
   ]
  },
  {
   "cell_type": "code",
   "execution_count": null,
   "metadata": {},
   "outputs": [],
   "source": [
    "# Przykładowo przypiszmy zmiennej x wartość int 5. Możemy teraz sprawdzić jej typ i użyć odpowiadających typowi int metod.\n",
    "x = 5\n",
    "type(x)"
   ]
  },
  {
   "cell_type": "code",
   "execution_count": null,
   "metadata": {},
   "outputs": [],
   "source": [
    "# Możemy wykonywać działania nadpisujące wartość x.\n",
    "x = 7\n",
    "# Oraz odwoływać się w przypisaniu do jej własnej wartości.\n",
    "x = x + 7\n",
    "# Takie działanie, jak powyżej można w pythonie wyrazić skrótowo operatorem +=. Analogicznie -= a nawet *=. Nie ma za to w pythonie słynnego ++.\n",
    "x += 7\n",
    "x"
   ]
  },
  {
   "cell_type": "markdown",
   "metadata": {},
   "source": [
    "#### Instrukcja warunkowa if\n",
    "Jednymi z podstawowych i jednocześnie najważniejszych narzędzi dla każdego języka programowania są warunkowe wykonywanie fragmentów kodu oraz wykonywanie ich wielokrotnie. Pierwszą z tych funkcjonalności zapewnia 'if'. Poznaliśmy już operacje logiczne. Łącząc je z operatorem if możemy napisać program postępujący w różny sposób w zależności od swojego stanu."
   ]
  },
  {
   "cell_type": "code",
   "execution_count": null,
   "metadata": {},
   "outputs": [],
   "source": [
    "x = 1 # Ustal dowolną liczbową wartość zmiennej.\n",
    "if x > 0:\n",
    "    print('Given value is positive') # Kod wykonywany wewnątrz ifa jest wcięty czterema spacjami.\n",
    "elif x == 0: # W przypadku, gdy pierwszy warunek nie jest spełniony, możemy sprawdzić kolejne wykorzystując elif.\n",
    "    print('Given value is 0')\n",
    "else: # Gdy wszystkie warunki nie zostaną spełnione wykonuje się fragment kodu zawarty wewwnątrz else.\n",
    "    print('Given value is negative')"
   ]
  },
  {
   "cell_type": "code",
   "execution_count": null,
   "metadata": {},
   "outputs": [],
   "source": [
    "# Odwoływanie się do zmiennych deklarowanych wewnątrz warunkowych fragmentów kodu jest z reguły niebezpieczne. Szczególnie jeśli nie wszystkie możliwe przypadki są pokryte.\n",
    "x = -2\n",
    "if x > 0:\n",
    "    y = x - 1\n",
    "    print(\"{value} is nonnegative\".format(value = y)) # Sposób na umieszczenie zmiennej wartości wewnątrz tekstu.\n",
    "print(y)\n",
    "# Notebooki, z których korzystamy przechowują wartości zmiennych w przestrzeni roboczej żeby móc się do nich odwoływać w kolejnych komórkach.\n",
    "# Jeśli więc najpierw wykonacie kod wchodzący do ifa, to przy kolejnym wykonaniu gdy warunek nie będzie spełniony wypisze się wyliczony poprzednio y."
   ]
  },
  {
   "cell_type": "code",
   "execution_count": null,
   "metadata": {},
   "outputs": [],
   "source": [
    "# Możemy tworzyć dowolnie skomplikowane operacje logiczne.\n",
    "x = 1.0\n",
    "if type(x) == int or x % 1 == 0:\n",
    "    print(\"given value is efectively an integer\")"
   ]
  },
  {
   "cell_type": "markdown",
   "metadata": {},
   "source": [
    "#### Pętla while\n",
    "Ta instrukcja sprawdza wartość wyrażenia logicznego podobnie do ifa, ale odmiennie do niego wykonuje fragment kodu tak długo, póki warunek jest spełniony."
   ]
  },
  {
   "cell_type": "code",
   "execution_count": null,
   "metadata": {},
   "outputs": [],
   "source": [
    "x = 0\n",
    "while x < 5: # Należy upewnić się, że w każdym przypadku warunek zostanie kiedyś spełniony - w innym wypadku program się 'zapętli'.\n",
    "    print(x)\n",
    "    x += 1"
   ]
  },
  {
   "cell_type": "markdown",
   "metadata": {},
   "source": [
    "### 2.6 Kolekcje, czyli obiekty zawierające inne obiekty\n",
    "Inaczej zwane kontenerami, kolekcje służą do organizowania danych w struktury i operowaniu w ten sposób na wielu wartościach na raz.\n",
    "#### Listy\n",
    "Lista jest podstawową kolekcją w pythonie. Podobnie jak typ tekstowy string, lista jest sekwencją, ale zawiera obiekty a nie znaki. Podobnie też operacje na listach będą miały analogiczne działanie do tych, które zobaczyliśmy w przypadku typu tekstowego."
   ]
  },
  {
   "cell_type": "code",
   "execution_count": null,
   "metadata": {},
   "outputs": [],
   "source": [
    "# Listę tworzymy wypisując kolejne wartości po przecinkach wewnątrz nawiasów kwadratowych.\n",
    "x = complex(1,1)\n",
    "mixed_type_list = [1, 2, 'napis', x]\n",
    "mixed_type_list[3] # Odwołanie do czwartego elementu listy"
   ]
  },
  {
   "cell_type": "code",
   "execution_count": null,
   "metadata": {},
   "outputs": [],
   "source": [
    "mixed_type_list.append(6) # funkcja listy 'append' dodaje obiekt na koniec listy\n",
    "mixed_type_list.pop() # a funkcja pop odcina z niej ostatni element i go zwraca"
   ]
  },
  {
   "cell_type": "code",
   "execution_count": null,
   "metadata": {},
   "outputs": [],
   "source": [
    "# Możemy nadpisywać wartosci na danych indeksach w liście\n",
    "x = [0] * 3\n",
    "x[1] = 1\n",
    "x"
   ]
  },
  {
   "cell_type": "code",
   "execution_count": null,
   "metadata": {},
   "outputs": [],
   "source": [
    "# Jeśli jednak chcemy utworzyć sekwencję, której nikt już nie będzie potem rozszerzał ani nadpisywał, bo na przykład reprezentuje konkretny rekord danych, to tworzymy tuplę.\n",
    "x = tuple([0]*3)\n",
    "type(x)"
   ]
  },
  {
   "cell_type": "code",
   "execution_count": null,
   "metadata": {},
   "outputs": [],
   "source": [
    "x[1] = 1"
   ]
  },
  {
   "cell_type": "code",
   "execution_count": null,
   "metadata": {},
   "outputs": [],
   "source": [
    "x.append(1)\n",
    "# Ta cecha niezmienności stanu obiektu nazywa się niemutowalnością."
   ]
  },
  {
   "cell_type": "code",
   "execution_count": null,
   "metadata": {},
   "outputs": [],
   "source": [
    "# Ciekawostka: kolekcje tak naprawdę nie zawierają obiektów tylko referencje do nich, więc tupla nie ma skąd wiedzieć, czy obiekt, do którego odnosi się referencja jest niemutowalny.\n",
    "# Niezmienność stanu tupli odwołuje się więc tak na prawdę do niezmienności właśnie tych referencji a nie obiektów w pamięci, na które wskazują.\n",
    "tuple_of_lists = (['A', 'l', 'a'], ['m', 'a'], ['k', 'o', 't', 'a']) # Jeśli więc umieścimy wewnątrz tupli listy...\n",
    "tuple_of_lists[2][0] = 'p'\n",
    "tuple_of_lists[2][1] = 's'\n",
    "tuple_of_lists[2][2] = 'a'\n",
    "tuple_of_lists[2].pop()\n",
    "tuple_of_lists # to możemy zmieniać ich zawartość dopóty, dopóki nie użyjemy przy tym przypisania nowej wartości do pozycji w tupli."
   ]
  },
  {
   "cell_type": "code",
   "execution_count": null,
   "metadata": {},
   "outputs": [],
   "source": [
    "x = [1, 2, 3]\n",
    "y = list(range(4,10,2)) # Możemy też stworzyć listę zrzutując typ range (zakres), który służy do generowania sekwencji liczb. Podajemy jej ostatni element i opcjonalnie pierwszy oraz długość kroku.\n",
    "x + y # Dodawanie w przypadku list skleja je w jedną, dłuższą listę"
   ]
  },
  {
   "cell_type": "code",
   "execution_count": null,
   "metadata": {},
   "outputs": [],
   "source": [
    "# Możemy iterować po elementach listy wykorzystując funkcję while oraz funkcję len, która zwraca długość listy.\n",
    "x = list(\"ab\")*4\n",
    "i = 0\n",
    "while i < len(x):\n",
    "    print(x[i])\n",
    "    i += 1\n",
    "# Jednak lepszym sposobem jest wykorzystanie pętli for..."
   ]
  },
  {
   "cell_type": "markdown",
   "metadata": {},
   "source": [
    "#### Pętla for (in)\n",
    "Instrukcja for w pythonie wykonuje ten sam fragment kodu wielokrotnie, ale nie na podstawie warunku a dla każdego elementu w (in) podanej sekwencji."
   ]
  },
  {
   "cell_type": "code",
   "execution_count": null,
   "metadata": {},
   "outputs": [],
   "source": [
    "# Ten kod daje taki sam efekt, co przykład powyżej, ale jest bardziej zwięzły i zrozumiały.\n",
    "x = list(\"ab\")*4\n",
    "for i in x:\n",
    "    print(i)"
   ]
  },
  {
   "cell_type": "code",
   "execution_count": null,
   "metadata": {},
   "outputs": [],
   "source": [
    "# W pythonie zwykle wykonuje się dany kod n razy wykorzystując połączenie instrukcji for oraz range\n",
    "x_1 = 0\n",
    "x_2 = 1\n",
    "for _ in range(10): # W tym wypadku element sekwencji nie jest potrzebny, więc wpisujemy w jego miejsce pythonowy placeholder _. Jedna wartość n podana do range jest równoznaczna range(0,n).\n",
    "    x_2 = x_1 + x_2\n",
    "    x_1 = x_2 - x_1\n",
    "x_2"
   ]
  },
  {
   "cell_type": "markdown",
   "metadata": {},
   "source": [
    "#### Slicing, czyli odwołanie do wycinka listy\n",
    "Możemy odwołać się do całego fragmentu listy na raz specyfikując w nawiasach kwadratowych start, koniec oraz krok (co ile elementów)."
   ]
  },
  {
   "cell_type": "code",
   "execution_count": null,
   "metadata": {},
   "outputs": [],
   "source": [
    "word_list = \"Ala ma kota\" # Typ tekstowy string to też rodzaj sekwencji - szeregu kolejnych znaków\n",
    "word_list[4:6] # Możemy więc stosować na nim slicing"
   ]
  },
  {
   "cell_type": "code",
   "execution_count": null,
   "metadata": {},
   "outputs": [],
   "source": [
    "numbers = range(20)\n",
    "positive_even_numbers = numbers[2::2] # Podaliśmy pierwszy indeks, od którego zaczynamy wycinek, nie podaliśmy ostatniego, więc idziemy do końca i podaliśmy krok o wartości 2\n",
    "list(positive_even_numbers)"
   ]
  },
  {
   "cell_type": "code",
   "execution_count": null,
   "metadata": {},
   "outputs": [],
   "source": [
    "positive_even_numbers[-1] # Używając ujemnych indeksów odwołujemy się 'patrząc od tyłu'. -1 to ostatni element."
   ]
  },
  {
   "cell_type": "code",
   "execution_count": null,
   "metadata": {},
   "outputs": [],
   "source": [
    "x = [1,2,3,4]\n",
    "list(reversed(x)) == list(x[::-1]) # Ustalając ujemny krok poruszamy się po liście w odwrotnym kierunku, efektywnie ją odwracając."
   ]
  },
  {
   "cell_type": "markdown",
   "metadata": {},
   "source": [
    "#### List comprehensions\n",
    "Ten element składni języka daje nam bardzo elegancki sposób operacji na listach. Przyjrzyjmy się budowie list comprehension poniżej."
   ]
  },
  {
   "cell_type": "code",
   "execution_count": 19,
   "metadata": {},
   "outputs": [
    {
     "data": {
      "text/plain": [
       "[0, 1, 4, 9, 16, 25, 36, 49, 64, 81]"
      ]
     },
     "execution_count": 19,
     "metadata": {},
     "output_type": "execute_result"
    }
   ],
   "source": [
    "[x**2 for x in range(10)] # Jak widać utworzyliśmy sekwencję pierwszych dziesięciu kwadratów liczb całkowitych niujemnych.\n",
    "# x**2          operacja do wykonania dla każdego elementu - nazywamy je przykładowo x, ale w liście ludzi może to być np. age(person)\n",
    "# for x in      dla każdego elementu w...\n",
    "# range(10)     jakiejś zadanej sekwencji.\n",
    "# Całość zamykamy w nawiasy kwadratowe, bo tworzymy listę."
   ]
  },
  {
   "cell_type": "code",
   "execution_count": 20,
   "metadata": {},
   "outputs": [
    {
     "data": {
      "text/plain": [
       "[1, 2, 3, 4, 5, 6, 7, 8, 9]"
      ]
     },
     "execution_count": 20,
     "metadata": {},
     "output_type": "execute_result"
    }
   ],
   "source": [
    "# Poniżej użycie wyżej wymiarowego list comprehension na liście list. Wynikiem jest spłaszczona lista.\n",
    "vec = [[1,2,3], [4,5,6], [7,8,9]]\n",
    "[num for elem in vec for num in elem]"
   ]
  },
  {
   "cell_type": "code",
   "execution_count": 21,
   "metadata": {},
   "outputs": [
    {
     "data": {
      "text/plain": [
       "[1, 2, 3, 5, 6, 7]"
      ]
     },
     "execution_count": 21,
     "metadata": {},
     "output_type": "execute_result"
    }
   ],
   "source": [
    "# Na końcu możemy też dodać warunek, który musi zostać spełniony, by element został uwzględniony w wyniku\n",
    "x = [1, 2, 3, 1.123, 5, 6, \"tekst\", 7]\n",
    "filtered_x = [i for i in x if type(i) == int]\n",
    "filtered_x"
   ]
  },
  {
   "cell_type": "markdown",
   "metadata": {},
   "source": [
    "#### Zbiory\n",
    "Zbiory zawierają zestaw unikalnych wartości. Każda wartość wewnątrz zbioru musi mieć zaimplementowaną funkcję hashującą - dzięki niej możemy efektywnie umieszczać i odwoływać się do wartości wewnątrz zbioru oraz sprawdzać, czy wstawiana wartość nie jest duplikatem."
   ]
  },
  {
   "cell_type": "code",
   "execution_count": null,
   "metadata": {},
   "outputs": [],
   "source": [
    "# Pusty zbiór tworzy się za pomocą funkcji set\n",
    "x = set()\n",
    "x.add(\"Ala\")\n",
    "x"
   ]
  },
  {
   "cell_type": "code",
   "execution_count": null,
   "metadata": {},
   "outputs": [],
   "source": [
    "# Natomiast zawierający elementy deklarujemy wypisując je wewnątrz klamr\n",
    "x = {\"Ala\", \"ma\", \"kota\"}\n",
    "x.remove(\"ma\")\n",
    "print(x)\n",
    "x.remove(\"ma\") # Należy być ostrożnym przy odwoływaniu się do wartości, których może nie być wewnątrz zbioru"
   ]
  },
  {
   "cell_type": "code",
   "execution_count": null,
   "metadata": {},
   "outputs": [],
   "source": [
    "\"ma\" in x # Możemy upewnić się co do obecności w kolekcji słowem kluczowym in"
   ]
  },
  {
   "cell_type": "code",
   "execution_count": 22,
   "metadata": {},
   "outputs": [
    {
     "data": {
      "text/plain": [
       "{1, 2, 3, 4}"
      ]
     },
     "execution_count": 22,
     "metadata": {},
     "output_type": "execute_result"
    }
   ],
   "source": [
    "# Rzutowanie listy na zbiór usuwa duplikaty. Potem możemy zrzutować z powrotem na listę\n",
    "unique_numbers = set([1,2,3,4,1,2,3,4])\n",
    "unique_numbers"
   ]
  },
  {
   "cell_type": "code",
   "execution_count": 24,
   "metadata": {},
   "outputs": [
    {
     "name": "stdout",
     "output_type": "stream",
     "text": [
      "Suma:  {2, 3, 4, 5, 6, 7, 8, 10, 11}\n",
      "Iloczyn:  {2}\n",
      "Różnica:  {11, 3, 5, 7}\n",
      "Różnica symetryczna:  {3, 4, 5, 6, 7, 8, 10, 11}\n"
     ]
    }
   ],
   "source": [
    "# Operacje na zbiorach\n",
    "a = {2, 3, 5, 7, 11}\n",
    "b = {2, 4, 6, 8, 10}\n",
    "print('Suma: ', a | b) # union\n",
    "print('Iloczyn: ', a & b) # intersection\n",
    "print('Różnica: ', a - b) # difference\n",
    "print('Różnica symetryczna: ', a ^ b) # symmetric difference (union - intersection)"
   ]
  },
  {
   "cell_type": "code",
   "execution_count": 25,
   "metadata": {},
   "outputs": [
    {
     "name": "stdout",
     "output_type": "stream",
     "text": [
      "7\n"
     ]
    }
   ],
   "source": [
    "# Po zbiorze iterujemy jak po sekwencji, ale trzeba mieć na uwadze, że kolejność elementów może się zmieniać (patrz niektóre wyniki działań wyżej).\n",
    "for number in a:\n",
    "    if number == 7: print(number)"
   ]
  },
  {
   "cell_type": "markdown",
   "metadata": {},
   "source": [
    "#### Słowniki\n",
    "Słowniki składają się ze zbioru kluczy oraz zestawu wartości, które są do nich przypisane."
   ]
  },
  {
   "cell_type": "code",
   "execution_count": null,
   "metadata": {},
   "outputs": [],
   "source": [
    "# Podobnie jak zbiór, słownik zamykamy klamrami. Pusty słownik deklarujemy wypisując klamry bez zawartości (dlatego zbiór musi używać metody set()).\n",
    "dict_a = {}\n",
    "dict_a['a'] = [1,2,3] # Klucze muszą być hashowalne, ale wartości już nie\n",
    "dict_a"
   ]
  },
  {
   "cell_type": "code",
   "execution_count": null,
   "metadata": {},
   "outputs": [],
   "source": [
    "print(dict_a.keys()) # Za pomocą metody keys dostajemy listę kluczy\n",
    "print(dict_a.values()) # A metoda values da nam listę wartości"
   ]
  },
  {
   "cell_type": "code",
   "execution_count": null,
   "metadata": {},
   "outputs": [],
   "source": [
    "# Możemy iterować po słowniku. Iterator przechodzi wtedy po kluczach.\n",
    "for i in dict_a:\n",
    "    print(i)\n",
    "    print(dict_a[i])"
   ]
  },
  {
   "cell_type": "code",
   "execution_count": null,
   "metadata": {},
   "outputs": [],
   "source": [
    "# Jeśli podczas iteracji chcemy mieć od razu dostęp zarówno do kluczy jak i wartości to używamy metody items. Zwraca ona listę par klucz-wartość.\n",
    "for key, value in dict_a.items():\n",
    "    print(\"{k}: {v}\".format(k=key, v=value))"
   ]
  },
  {
   "cell_type": "code",
   "execution_count": null,
   "metadata": {},
   "outputs": [],
   "source": [
    "# Mamy też słownikowy odpowiednik list-comprehension.\n",
    "a = [2, 3, 5, 7, 11]\n",
    "b = [\"a\", \"b\", \"c\", \"d\", \"d\"]\n",
    "c = {a[i]: b[i] for i in range(len(a))}\n",
    "c"
   ]
  },
  {
   "cell_type": "code",
   "execution_count": null,
   "metadata": {},
   "outputs": [],
   "source": [
    "# Do wartości słownika nie odwołujemy się po indeksie a po kluczach. Należy jednak uważać, czy w słowniku znajduje się dany klucz.\n",
    "c[13]"
   ]
  },
  {
   "cell_type": "code",
   "execution_count": null,
   "metadata": {},
   "outputs": [],
   "source": [
    "# Dla bezpieczeństwa możemy zajrzeć, czy klucz znajduje się w strukturze.\n",
    "to_peek = 13\n",
    "if to_peek in c:\n",
    "    print(c.get(to_peek))"
   ]
  },
  {
   "cell_type": "markdown",
   "metadata": {},
   "source": [
    "#### Inne ciekawe kolekcje\n",
    " - Default dict - słownik z wartością domyślną przy braku elementu.\n",
    " - Ordered dict - słownik pamiętający kolejność wstawiania.\n",
    " - Named Tuple - unikalna struktura; spomiędzy już poznanych najbliżej jej do słownika. Metoda namedtuple() tworzy nową klasę tupli o nazwanych polach. \n",
    " - Chain Map - kolekcja słowników przydatna, gdy chcemy operować na nich jednocześnie nie łącząc ich\n",
    " - Counter - specjalny słownik do trzymania liczności wystąpień kluczy\n",
    " - Deque (Double-Ended Queue) - lista o równie szybkich operacjach na obu końcach implementująca m.in. operację popleft i appendleft, które pozwalają używać listy jako kolejki (fifo)"
   ]
  },
  {
   "cell_type": "markdown",
   "metadata": {},
   "source": [
    "### 3. Funkcje, klasy i obiekty\n",
    "Im program bardziej zaawansowany, tym bardziej musimy dbać, aby jego kod był uporządkowany. W tym celu wyżej poziomowe języki programowania oferują użytkownikom coraz bogatszą sładnię zaczynając od instrukcji warunkowych poprzez pętle i docierając do funkcji i klas. I tak, jak pętle pozwalały nam wykonać ten sam kod wiele razy, tak funkcje zawierają ten sam kod, który możemy potem wywoływać w kilku miejscach.\n",
    "\n",
    "#### 3.1 Funkcje\n",
    "Definicja funkcji (sygnature) składa się z deklaracji, która zawiera nazwę, argumenty oraz opcjonalnie typ zwracany i sekwencji instrukcji programowych, które mogą zwracać jakąś wartość."
   ]
  },
  {
   "cell_type": "code",
   "execution_count": null,
   "metadata": {},
   "outputs": [],
   "source": [
    "%%capture\n",
    "# Jak zapisywać funkcje:\n",
    "def nazwa_funkcji(argument1: typ_argumentu, parametr2: typ_argumentu) -> typ_zwracany:\n",
    "        # logika funkcji\n",
    "        return zwracana_wartość"
   ]
  },
  {
   "cell_type": "code",
   "execution_count": null,
   "metadata": {},
   "outputs": [],
   "source": [
    "# Deklarowanie typów zwracanych nie jest wymagane przez interpreter pythona, ale jest dobrą praktyką. Do tego celu wykorzystuje się pakiet biblioteki standardowej typing albo od nowszych wersji wbudowane typy.\n",
    "from typing import List"
   ]
  },
  {
   "cell_type": "code",
   "execution_count": null,
   "metadata": {},
   "outputs": [],
   "source": [
    "def weighted_list_avg(val_list: List[float], weights_list: list[float]) -> float: # Typ List pochodzi z pakietu typing, natomiast list jest wbudowanym typem pythona.\n",
    "    if sum(weights_list) != 1.0:\n",
    "        raise ArithmeticError(\"Invalid weights do not sum up to 1!\") # Kiedy niespełnione są założenia programu i zwrócona wartość nie miałaby sensu, możemy poinformować użytkownika wyjątkiem.\n",
    "    return sum([val_list[i] * weights_list[i] for i in range(len(val_list))])"
   ]
  },
  {
   "cell_type": "code",
   "execution_count": null,
   "metadata": {},
   "outputs": [],
   "source": [
    "weighted_list_avg([2.0, 3.0, 5.0], [0.2, 0.2, 0.6])"
   ]
  },
  {
   "cell_type": "code",
   "execution_count": null,
   "metadata": {},
   "outputs": [],
   "source": [
    "weighted_list_avg(weights_list=[0.3, 0.3, 0.3], val_list=[2.0, 3.0, 5.0])"
   ]
  },
  {
   "cell_type": "markdown",
   "metadata": {},
   "source": [
    "Wykorzystując funkcje należy pamiętać, że zmienne deklarowane wewnątrz nich mają zasięg lokalny, tzn. istnieją jedynie wewnątrz samej funkcji."
   ]
  },
  {
   "cell_type": "code",
   "execution_count": null,
   "metadata": {},
   "outputs": [],
   "source": [
    "x = 10\n",
    "x_list = [x]\n",
    "\n",
    "def add_one(x: int, x_list: list) -> int:\n",
    "    x += 1 # Zmienna x wewnątrz funkcji jest zmienną lokalną, która nie ma nic wspólnego z x zdefiniowanym na zewnątrz. \"Przesłania\" oryginalny x.\n",
    "    z = x\n",
    "    x_list.append(x)\n",
    "    return x\n",
    "\n",
    "print(\"Result x: \", add_one(x, x_list))\n",
    "print(\"Result x: \", add_one(x, x_list)) # Wynik nie zmienia się, bo zmienna x wewnątrz funkcji nie ma wpływu na zmienną x zdefiniowaną na zewnątrz.\n",
    "print(\"Original x remains unchanged: \", x)\n",
    "print(\"But the list has been modified: \", x_list) # Lista została przekazana w formie referencji, więc wykonanie jej metody append zmienia jej zawartość również poza funkcją.\n",
    "print(\"Variable z is not accessible outside the function: \", z) # Otrzymamy NameError, bo zmienna y jest zadeklarowana wewnątrz funkcji i nie jest dostępna poza nią."
   ]
  },
  {
   "cell_type": "markdown",
   "metadata": {},
   "source": [
    "#### 3.2 Klasy i obiekty\n",
    "__Obiekt to struktura łącząca dane oraz funkcje. W pythonie wszystko jest obiektem.__ Widzieliśmy już przykłady wykonywania funkcji obiektów, gdy zapisujemy wartość bądź zmienną ją reprezentującą i po niej kropkę i nazwę funkcji. __Klasy to szablony do tworzenia obiektów.__ Zawierają deklaracje zmiennych reprezentujących dane obiektu oraz kod funkcji, które do niego należą. Każda klasa zawiera specjalne metody, których nazwy otoczone są dwoma podłogami ( \\_\\_nazwa\\_\\_() ). Są to podstawowe metody dla języka i nie należy ich nadpisywać."
   ]
  },
  {
   "cell_type": "code",
   "execution_count": null,
   "metadata": {},
   "outputs": [],
   "source": [
    "import random # Pakiet biblioteki standardowej do pracy z wartościami pseudolosowymi.\n",
    "from dataclasses import dataclass # Funkcjonalność klas danych.\n",
    "from typing import Generator # Generator to funkcja, która zwraca wartości w trakcie swojego wykonywania.\n",
    "from functools import total_ordering # Dekorator, który pozwala na automatyczne generowanie metod porównujących obiekty."
   ]
  },
  {
   "cell_type": "code",
   "execution_count": null,
   "metadata": {},
   "outputs": [],
   "source": [
    "# Przykładowa klasa reprezentująca punkt w przestrzeni 2D.\n",
    "@total_ordering\n",
    "class Vector2D:\n",
    "    def __init__(self, x: float = 0.0, y: float = 0.0): # Specjalna metoda konstruktora służąca do tworzenia nowych obiektów. Argumenty mają wartości domyślne.\n",
    "        self._x = x # Zmienna zaczynająca się od _ jest traktowana jako protected, tzn. nie powinno być do niej bezpośredniego dostępu z zewnątrz.\n",
    "        self._y = y\n",
    "        self._length = (self._x**2 + self._y**2)**0.5\n",
    "    \n",
    "    def set_coords(self, x: float, y: float) -> None: # Metoda ustawiająca wartość zmiennej x. Nazywana zwyczajowo setterem a jej nazwa zaczyna się od 'set'.\n",
    "        self._x = x\n",
    "        self._y = y\n",
    "        self._length = (self._x**2 + self._y**2)**0.5\n",
    "    \n",
    "    def get_length(self) -> float: # Analogicznie metoda zwracająca wartość zmiennej nazywana jest getterem i zaczyna się od 'get'.\n",
    "        return self._length\n",
    "    \n",
    "    def scalar_product(self, scalar: float) -> 'Vector2D': # Metoda, która mnoży wektor przez skalar i zwraca nowy wektor.\n",
    "        return Vector2D(self._x * scalar, self._y * scalar)\n",
    "    \n",
    "    def __eq__(self, other: 'Vector2D') -> bool: # Specjalna metoda, która pozwala na porównywanie obiektów za pomocą operatora '=='.\n",
    "        return self._length == other.get_length()\n",
    "\n",
    "    def __lt__(self, other: 'Vector2D') -> bool:\n",
    "        return self._length < other.get_length()\n",
    "\n",
    "    def __repr__(self): # Ta metoda definiuje reprezentację tekstową obiektu, która jest zwracana np. przez funkcję print.\n",
    "        return f\"Vector2D(x={self._x}, y={self._y})\""
   ]
  },
  {
   "cell_type": "code",
   "execution_count": null,
   "metadata": {},
   "outputs": [],
   "source": [
    "vec_1 = Vector2D(3, 4)\n",
    "vec_2 = Vector2D()\n",
    "vec_3 = vec_1.scalar_product(2)\n",
    "\n",
    "vec_list = [vec_1, vec_3, vec_2]\n",
    "print(vec_list)\n",
    "vec_list.sort() # Metoda sortująca listę. Działa, bo zaimplementowaliśmy metody porównujące w klasie Vector2D.\n",
    "print(vec_list)"
   ]
  },
  {
   "cell_type": "code",
   "execution_count": null,
   "metadata": {},
   "outputs": [],
   "source": [
    "# Kod przykładowej klasy wykorzystującej generator\n",
    "class RandomWalker:\n",
    "    def __init__(self, name):\n",
    "        self._name = name\n",
    "        self.position = [0.0,0.0]\n",
    "\n",
    "    def walk(self, n) -> Generator[float]:\n",
    "        for _ in range(n):\n",
    "            yield self.position.copy() # Rodzaj zwracania, który nie kończy wykonania funkcji (w przeciwieństwie do return).\n",
    "            self.position[0] += random.uniform(-1.0, 1.0)\n",
    "            self.position[1] += random.uniform(-1.0, 1.0)\n",
    "    \n",
    "    def __str__(self) -> str: # Metoda odpowiedzialna za reprezentację tekstową obiektu.\n",
    "        return \"My name is {name}. I am a RandomWalker and my current position is {position}\".format(name = self._name, position=self.position)\n",
    "    \n",
    "    @staticmethod # Metoda statyczna, tzn należąca do samej klasy a nie jej instancji, czyli obiektów. Rozpoznamy ją dekoratorem @staticmethod i brakiem argumentu self.\n",
    "    def __doc__() -> str:\n",
    "        return '''RandomWalker is an example class created for Python course. It represents a point moving randomly on a 2-d plane.\n",
    "--- Attributes:\n",
    "    _name: represents a name, purpose and dreams of specific RandomWalker object\n",
    "    position: xy coordinates on a 2-d plane\n",
    "--- Methods:\n",
    "    walk(parameter n - number of steps): performs n random steps uniformly sampled between -1.0 and 1.0 for both dimensions. Returns list of consecutive positions.'''"
   ]
  },
  {
   "cell_type": "code",
   "execution_count": null,
   "metadata": {},
   "outputs": [],
   "source": [
    "print(RandomWalker.__doc__())"
   ]
  },
  {
   "cell_type": "code",
   "execution_count": null,
   "metadata": {},
   "outputs": [],
   "source": [
    "walker = RandomWalker(\"Wanderer\")\n",
    "print(walker)"
   ]
  },
  {
   "cell_type": "code",
   "execution_count": null,
   "metadata": {},
   "outputs": [],
   "source": [
    "# Za pomocą metody next otrzymujemy kolejny element wskazywany przez iterator lub kolejną wartość produkowaną przez generator.\n",
    "generator = walker.walk(2)\n",
    "print(next(generator))\n",
    "print(next(generator))\n",
    "next(generator) # Jednak w ten sposób możemy nie mieć pewności, czy żądana wartość istnieje."
   ]
  },
  {
   "cell_type": "code",
   "execution_count": null,
   "metadata": {},
   "outputs": [],
   "source": [
    "list(walker.walk(10)) # Rzutując wartości zwracane przez generator na listę otrzymamy od razu pełny zakres zwracany. Minusem jest większe obciążenie dla pamięci komputera."
   ]
  },
  {
   "cell_type": "markdown",
   "metadata": {},
   "source": [
    "#### 3.3 Dataclassy\n",
    "Te specjalne klasy zostały dodane do pythona około 6 lat temu. Służą do uproszczonego pisania prostych klas skoncentrowanych na przechowywaniu danych raczej niż na powiązanych z nimi metodach. Dataclassy od razu generują za nas funkcje konstruktora, reprezentacji tekstowej i porównania - wystarczy jedynie zadeklarować dane i ich typ."
   ]
  },
  {
   "cell_type": "code",
   "execution_count": null,
   "metadata": {},
   "outputs": [],
   "source": [
    "@dataclass # Przed deklaracją klasy umieszczamy taki oto dekorator.\n",
    "class Author():\n",
    "    name: str\n",
    "    year_born: int\n",
    "\n",
    "@dataclass\n",
    "class Book():\n",
    "    name: str\n",
    "    publication_year: int\n",
    "    author: Author"
   ]
  },
  {
   "cell_type": "code",
   "execution_count": null,
   "metadata": {},
   "outputs": [],
   "source": [
    "fiodor = Author('Dostoyewsy', 1999)\n",
    "crime = Book('Punishment', 1998, fiodor)\n",
    "\n",
    "if crime.publication_year < fiodor.year_born: # Prosty test integralności danych.\n",
    "    print(\"Invalid year of book publication!\")"
   ]
  },
  {
   "cell_type": "markdown",
   "metadata": {},
   "source": [
    "### 3.4 Obsługa wyjątków\n",
    "Czasami spodziewamy się błędów programu występujących w trakcie jego działania i zawczasu przygotowujemy dla nich odpowiednią obsługę."
   ]
  },
  {
   "cell_type": "code",
   "execution_count": null,
   "metadata": {},
   "outputs": [],
   "source": [
    "user_input = input(\"Type, how many apples do you want and press Enter: \") # Funkcja input pozwala na interakcję z użytkownikiem poprzez wczytanie tekstu wpisanego z klawiatury. Użytkownik nie zawsze zachowa się tak, jak oczekujemy...\n",
    "\n",
    "# W takich sytuacjach możemy wykorzystać konstrukcję try-except, która pozwala na obsługę wyjątków (błędów wykonania programu) w kontrolowany sposób.\n",
    "try: # Próbujemy wykonać poniższy kod.\n",
    "    user_input = int(user_input)\n",
    "except ValueError: # Jeśli podczas wykonywania kodu w bloku try pojawi się błąd typu ValueError, to wykonany zostanie blok except.\n",
    "    print(\"That's not an integer!\")\n",
    "    user_input = 0\n",
    "finally: # Blok finally wykona się zawsze, niezależnie od tego, czy pojawił się wyjątek, czy nie.\n",
    "    print(f\"You will get: {user_input} apples\")"
   ]
  },
  {
   "cell_type": "markdown",
   "metadata": {},
   "source": [
    "### Ćwiczenie 1.\n",
    "Zmodyfikuj powyższy kod, by pytał użytkownika o ilość jabłek do skutku (aż poda liczbę całkowitą). Czy warto obsłużyć jeszcze jakiś inny przypadek niepoprawnego wejścia?"
   ]
  },
  {
   "cell_type": "code",
   "execution_count": 6,
   "metadata": {},
   "outputs": [
    {
     "name": "stdout",
     "output_type": "stream",
     "text": [
      "That's not an integer!\n",
      "You will get: 0 apples\n",
      "\n",
      "That's not an integer!\n",
      "You will get: 0 apples\n",
      "\n",
      "That's not an integer!\n",
      "You will get: 0 apples\n",
      "\n",
      "Number of apples must be greater than 0! Try again\n",
      "You will get: 0 apples\n",
      "\n",
      "That's not an integer!\n",
      "You will get: 0 apples\n",
      "\n",
      "That's not an integer!\n",
      "You will get: 0 apples\n",
      "\n",
      "You will get: 5 apples\n"
     ]
    }
   ],
   "source": [
    "def get_int_apples():\n",
    "    user_input = input(\"Type, how many apples do you want and press Enter: \")\n",
    "    \n",
    "    try: # Próbujemy wykonać poniższy kod.\n",
    "        user_input = int(user_input)\n",
    "        \n",
    "        if user_input> 0:\n",
    "            print(f\"You will get: {user_input} apples\")\n",
    "            return user_input\n",
    "        else:\n",
    "            print(\"Number of apples must be greater than 0! Try again\")\n",
    "            print(\"You will get: 0 apples\\n\")\n",
    "            get_int_apples()\n",
    "        \n",
    "    except ValueError: # Jeśli podczas wykonywania kodu w bloku try pojawi się błąd typu ValueError, to wykonany zostanie blok except.\n",
    "        print(\"That's not an integer!\")\n",
    "        print(\"You will get: 0 apples\\n\")\n",
    "        user_input = 0\n",
    "        get_int_apples()\n",
    "        \n",
    "    # finally: # Blok finally wykona się zawsze, niezależnie od tego, czy pojawił się wyjątek, czy nie.\n",
    "    #     #if type(user_input) == int:\n",
    "    #     print(f\"You will get: {user_input} apples\")\n",
    "    #     #return user_input\n",
    "   \n",
    "get_int_apples()\n",
    "\n",
    "#czy int większy od 0\n",
    "# while type(get_int_apples()) != int:\n",
    "#      get_int_apples()"
   ]
  },
  {
   "cell_type": "markdown",
   "metadata": {},
   "source": [
    "### 3.5 Operacje na plikach\n",
    "Aby programy mogły produkować wartościowe wyniki koniecznym jest możliwość wczytywania do nich danych oraz zapisu wyników między uruchomieniami (persystencja). Najważniejszym z tego typu mechanizmów są operacje wczytywania i zapisu do plików.\n",
    "\n",
    "#### Praca z plikiem tekstowym\n",
    "Natomiast najprostszym rodzajem plików, z którymi możemy pracować są pliki tekstowe."
   ]
  },
  {
   "cell_type": "code",
   "execution_count": null,
   "metadata": {},
   "outputs": [],
   "source": [
    "import os\n",
    "\n",
    "print(\"CURRENT WORKING DIRECTORY:\")\n",
    "print(os.getcwd())\n",
    "print(\"\\nFILES IN CURRENT DIRECTORY:\")\n",
    "print(os.listdir('.'))\n",
    "\n",
    "# Przeszukaj drzewo katalogów od bieżącego miejsca w dół i wypisz pliki o nazwie zawierającej 'Moby' lub 'Data_Moby'\n",
    "matches = []\n",
    "for root, dirs, files in os.walk('.'):\n",
    "    for f in files:\n",
    "        if 'Moby' in f or 'Data_Moby' in f or f.lower().endswith('.txt'):\n",
    "            matches.append(os.path.join(root, f))\n",
    "\n",
    "print(\"\\nPOSSIBLE MATCHES (przeszukane z '.'): \")\n",
    "for m in matches:\n",
    "    print(m)\n"
   ]
  },
  {
   "cell_type": "code",
   "execution_count": 1,
   "metadata": {},
   "outputs": [
    {
     "data": {
      "text/plain": [
       "<_io.TextIOWrapper name='Data_MobyDick.txt' mode='r' encoding='UTF-8'>"
      ]
     },
     "execution_count": 1,
     "metadata": {},
     "output_type": "execute_result"
    }
   ],
   "source": [
    "# Wywołując metodę open otwieramy plik określony przez ścieżkę. Jako wartość zwracaną otrzymujemy obiekt pliku przechowujący jego zawartość i własności.\n",
    "fp = open('Data_MobyDick.txt', encoding=\"UTF-8\")\n",
    "fp"
   ]
  },
  {
   "cell_type": "code",
   "execution_count": 2,
   "metadata": {},
   "outputs": [
    {
     "data": {
      "text/plain": [
       "'The Project Gutenberg eBook of Moby-Dick; or The Whale, by Herman Melville\\n'"
      ]
     },
     "execution_count": 2,
     "metadata": {},
     "output_type": "execute_result"
    }
   ],
   "source": [
    "# Obiekt reprezentujący zczytywany plik przechowuje, w którym miejscu obecnie jesteśmy, więc możemy wczytywać kolejne linie tak, jak w przypadku generatorów.\n",
    "next(fp)"
   ]
  },
  {
   "cell_type": "code",
   "execution_count": 3,
   "metadata": {},
   "outputs": [],
   "source": [
    "# Na koniec pracy z plikiem musimy pamiętać o jego zamknięciu.\n",
    "fp.close()"
   ]
  },
  {
   "cell_type": "code",
   "execution_count": 4,
   "metadata": {},
   "outputs": [
    {
     "data": {
      "text/plain": [
       "22315"
      ]
     },
     "execution_count": 4,
     "metadata": {},
     "output_type": "execute_result"
    }
   ],
   "source": [
    "# Chyba, że użyjemy wygodnej konstrukcji with open, która zamknie plik na końcu wciętej sekcji kodu.\n",
    "with open('Data_MobyDick.txt', \"r\", encoding=\"UTF-8\") as mb_file:\n",
    "    count = 0\n",
    "    if count < 10:\n",
    "        for line in mb_file:\n",
    "            count += 1\n",
    "count"
   ]
  },
  {
   "cell_type": "markdown",
   "metadata": {},
   "source": [
    "### Ćwiczenie 2\n",
    "Wykorzystując poznane wcześniej techniki, wczytaj tylko pierwsze 10 linii, usuń białe znaki na ich końcach i odfiltruj puste linie. Na koniec wypisz wynik."
   ]
  },
  {
   "cell_type": "code",
   "execution_count": 11,
   "metadata": {},
   "outputs": [
    {
     "name": "stdout",
     "output_type": "stream",
     "text": [
      "1   The Project Gutenberg eBook of Moby-Dick; or The Whale, by Herman Melville\n",
      "\n",
      "2   \n",
      "\n",
      "3   This eBook is for the use of anyone anywhere in the United States and\n",
      "\n",
      "4   most other parts of the world at no cost and with almost no restrictions\n",
      "\n",
      "5   whatsoever. You may copy it, give it away or re-use it under the terms\n",
      "\n",
      "6   of the Project Gutenberg License included with this eBook or online at\n",
      "\n",
      "7   www.gutenberg.org. If you are not located in the United States, you\n",
      "\n",
      "8   will have to check the laws of the country where you are located before\n",
      "\n",
      "9   using this eBook.\n",
      "\n",
      "10   \n",
      "\n"
     ]
    }
   ],
   "source": [
    "\n",
    "#.split()\n",
    "#list_comprehension\n",
    "with open('Data_MobyDick.txt', \"r\", encoding=\"UTF-8\") as mb_file:\n",
    "    count = 0\n",
    "    for line in mb_file:\n",
    "        if count < 10:\n",
    "            count += 1\n",
    "            print(count,\" \",line)"
   ]
  },
  {
   "cell_type": "code",
   "execution_count": null,
   "metadata": {},
   "outputs": [],
   "source": [
    "mb_head = ['The Project Gutenberg eBook of Moby-Dick; or The Whale, by Herman Melville',\n",
    " 'This eBook is for the use of anyone anywhere in the United States and',\n",
    " 'most other parts of the world at no cost and with almost no restrictions',\n",
    " 'whatsoever. You may copy it, give it away or re-use it under the terms',\n",
    " 'of the Project Gutenberg License included with this eBook or online at',\n",
    " 'www.gutenberg.org. If you are not located in the United States, you',\n",
    " 'will have to check the laws of the country where you are located before',\n",
    " 'using this eBook.']\n",
    "\n",
    "# Do plików możemy zapisywać otwierając je w trypie zapisu (\"w\"), albo nadpisu (\"a\"). Pierwszy tryb usunie poprzednią zawartość, podczas gdy nowy doda naszą nową treść na koniec obecnej.\n",
    "with open('Head.txt', \"a\", encoding=\"UTF-8\") as head_file:\n",
    "    head_file.write(str.join(\"\\n\", mb_head))"
   ]
  },
  {
   "cell_type": "code",
   "execution_count": null,
   "metadata": {},
   "outputs": [],
   "source": [
    "# Metodą readlines wczytujemy od razu wszystkie linie. Ponownie jak przy rzutowaniu generatora na listę jest to wygodne, ale należy uważać na pojemność pamięci.\n",
    "with open('Head.txt', \"r\", encoding=\"UTF-8\") as head_file:\n",
    "    print(head_file.readlines())"
   ]
  },
  {
   "cell_type": "markdown",
   "metadata": {},
   "source": [
    "#### Praca z plikiem CSV\n",
    "CSV (Comma Separated Values) to prosty format plików tabelarycznych. Jest jednym z najpopularniejszych formatów do przechowywania uporządkowanych danych. Umiejętność pracy z nim jest bardzo istotna dla kogoś chcącego zajmować się data science."
   ]
  },
  {
   "cell_type": "code",
   "execution_count": null,
   "metadata": {},
   "outputs": [],
   "source": [
    "# Jak zwykle python ma do zaoferowania specjalne pakiety do pracy z takimi plikami.\n",
    "# W tym przypadku wykorzystamy podstawowy z biblioteki standardowej a na przyszłych zajęciach poznamy bardziej rozbudowane alternatywy.\n",
    "import csv"
   ]
  },
  {
   "cell_type": "code",
   "execution_count": null,
   "metadata": {},
   "outputs": [],
   "source": [
    "with open('Dataset_WorldPortIndex.csv', 'r') as csv_file:\n",
    "    reader = csv.reader(csv_file) # Wykorzystujemy specjalny czytnik, który od razu podzieli wiersze pliku csv po ustalonym separatorze i sprowadzi je do list.\n",
    "    header = next(reader)\n",
    "    head = [row for row in reader][:10]\n",
    "\n",
    "print(header)\n",
    "head"
   ]
  },
  {
   "cell_type": "markdown",
   "metadata": {},
   "source": [
    "#### Praca z plikiem JSON\n",
    "JSON (JavaScript Object Notation) to bardzo popularny format przechowywania danych w strukturze zbliżonej do słowników Pythona. Wykorzystywany jest m.in. do przesyłania danych między serwerami i aplikacjami internetowymi.\n",
    "Stanowi jeden z podstawowych formatów, z którymi pracuje się w data science i w programowaniu w ogóle."
   ]
  },
  {
   "cell_type": "code",
   "execution_count": null,
   "metadata": {},
   "outputs": [],
   "source": [
    "# Ponownie mamy do dyspozycji odpowiedni pakiet biblioteki standardowej.\n",
    "import json\n",
    "\n",
    "# Wymyślona odpowiedź z API, które prezentowałoby informacje o portach morskich.\n",
    "api_response = {\n",
    "    \"status\": \"success\",\n",
    "    \"timestamp\": \"2025-08-08T10:23:00Z\",\n",
    "    \"data\": {\n",
    "        \"port_id\": 10234,\n",
    "        \"name\": \"Gdańsk Port\",\n",
    "        \"country\": \"Poland\",\n",
    "        \"location\": {\"lat\": 54.35, \"lon\": 18.65},\n",
    "        \"facilities\": [\"cargo\", \"container\", \"passenger\"],\n",
    "        \"traffic\": {\n",
    "            \"ships_per_day\": 45,\n",
    "            \"main_routes\": [\"Copenhagen\", \"Hamburg\", \"Rotterdam\"]\n",
    "        }\n",
    "    }\n",
    "}\n",
    "\n",
    "# Zapis do pliku JSON\n",
    "with open('api_response.json', 'w', encoding='utf-8') as json_file:\n",
    "    json.dump(api_response, json_file, indent=4)\n",
    "\n",
    "print(\"Plik JSON został utworzony.\")\n",
    "\n",
    "# Odczyt z pliku JSON\n",
    "with open('api_response.json', 'r', encoding='utf-8') as json_file:\n",
    "    loaded_response = json.load(json_file)\n",
    "\n",
    "print(\"Dane odczytane z pliku:\")\n",
    "print(loaded_response)"
   ]
  },
  {
   "cell_type": "markdown",
   "metadata": {},
   "source": [
    "### Ćwiczenie 3\n",
    "Napisz program, który po otrzymaniu jsonowej odpowiedzi (przykładowo reprezentowanej przez zadeklarowany wyżej api_response) wypisze, czy port obsługuje kontenery (facility - container)"
   ]
  },
  {
   "cell_type": "code",
   "execution_count": null,
   "metadata": {},
   "outputs": [],
   "source": []
  },
  {
   "cell_type": "markdown",
   "metadata": {},
   "source": [
    "## 4. Zadania\n",
    "1. Zaimplementuj funkcjonalność obliczającą dystans euklidesowy między dwoma punktami 3-wymiarowymi. Zastanów się, jak reprezentować punkty.\n",
    "2. Utwórz plik utility.py i zakoduj w nim funkcję implementującą wyliczanie średniej wszystkich wartości w słowniku. Zaimportuj funkcję do notatnika i wykonaj na słowniku data = {'a': 100, 'b': 120, 'c': 130}\n",
    "3. Utwórz tuplę zawierającą wszystkie litery alfabetu łacińskiego. Utwórz słownik, którego kluczami są elementy tupli a wartościami listy n-elementowe, gdzie każdy element to litera w kluczu a n to numer tej litery w alfabecie (zaczynając od 0). Dla jasności dla tylko pierwszych 3 liter słownik wyglądałby tak: {a: [], b: ['b'], c: ['c', 'c']}.\n",
    "    - ★ Spróbuj uzyskać taki sam słownik jedno-linijkowym kodem.\n",
    "4. Zainstaluj bibliotekę third-party o nazwie requests i wykonaj za jej pomocą zapytanie na dostępne publicznie api meowfacts (https://meow-facts.netlify.app/docs) w taki sposób, by otrzymać na raz trzy fakty. Wypisz kazdy z nich w nowej linijce.\n",
    "5. Policz, ile słów znajduje się w tekście zawartym w pliku Data_MobyDick.txt\n",
    "    - ★ Przygotuj Bag of Words dla tekstu zawartego w pliku Data_MobyDick.txt (Zlicz wystąpienia unikalnych słów bez rozróżniania WIELKICH i małych liter. Wyeliminuj znaki interpunkcyjne itp.) Zadanie może ułatwić Ci pakiet biblioteki standardowej re zawierający zaawansowane operacje na tekście wykorzystujące wyrażenia regularne.\n",
    "6. Wczytaj plik Dataset_WorldPortIndex.csv. Następnie przygotuj listę obiektów port, które będą instancjami dataclassy zawierającymi wybrane informacje na temat odpowiadających portów ze zbioru danych (niech pola będą ograniczone do współrzędnych geograficznych, nazwy, kraju i informacji o obecności lotniska).\n",
    "    - ★ Zakładając, że lecę samolotem w punkcie x, w którym najbliższym porcie mogę wylądować?"
   ]
  },
  {
   "cell_type": "markdown",
   "metadata": {},
   "source": [
    "1) Zaimplementuj funkcjonalność obliczającą dystans euklidesowy między dwoma punktami 3-wymiarowymi. Zastanów się, jak reprezentować punkty.\n",
    "\n",
    "punkt x [1,2,3]\n",
    "punkt y [4,5,6]"
   ]
  },
  {
   "cell_type": "code",
   "execution_count": null,
   "metadata": {},
   "outputs": [
    {
     "name": "stdout",
     "output_type": "stream",
     "text": [
      "[1.0, 2.0, 3.0] \n",
      " [4.0, 5.0, 6.0] \n",
      "\n",
      "27.0\n",
      "5.196152422706632\n"
     ]
    }
   ],
   "source": [
    "import math as m\n",
    "\n",
    "#dla list uzupełnionych\n",
    "x = [1.0, 2.0, 3.0]\n",
    "y = [4.0, 5.0, 6.0]\n",
    "\n",
    "print(x,\"\\n\",y,\"\\n\")\n",
    "\n",
    "calculating = (x[0]-y[0])**2 + (x[1]-y[1])**2 + (x[2]-y[2])**2\n",
    "print(calculating)\n",
    "\n",
    "len_squrt = m.sqrt(calculating)\n",
    "print(len_squrt)"
   ]
  },
  {
   "cell_type": "markdown",
   "metadata": {},
   "source": [
    "calculating = (1-4)^2 + (2-5)^2 + (3-6)^2 \n",
    "\n",
    "\n",
    "3^2 + 3^2 + 3^2\n",
    "\n",
    "\n",
    "27\n",
    "\n",
    "sqrt(27) = "
   ]
  },
  {
   "cell_type": "code",
   "execution_count": null,
   "metadata": {},
   "outputs": [],
   "source": [
    "#FUNKCJE W RANDOM:\n",
    "\n",
    "#number = random.randint(1,10)\n",
    "number = random.uniform(1,15)\n",
    "print(number)\n",
    "\n",
    "#losowy element z listy:\n",
    "pick_list = [10, 25, 30, 45, 60, 80]\n",
    "print(random.choice(pick_list))\n"
   ]
  },
  {
   "cell_type": "code",
   "execution_count": null,
   "metadata": {},
   "outputs": [
    {
     "ename": "IndexError",
     "evalue": "list assignment index out of range",
     "output_type": "error",
     "traceback": [
      "\u001b[31m---------------------------------------------------------------------------\u001b[39m",
      "\u001b[31mIndexError\u001b[39m                                Traceback (most recent call last)",
      "\u001b[36mCell\u001b[39m\u001b[36m \u001b[39m\u001b[32mIn[42]\u001b[39m\u001b[32m, line 8\u001b[39m\n\u001b[32m      5\u001b[39m y = []\n\u001b[32m      7\u001b[39m \u001b[38;5;28;01mfor\u001b[39;00m i \u001b[38;5;129;01min\u001b[39;00m \u001b[38;5;28mrange\u001b[39m(\u001b[32m3\u001b[39m):\n\u001b[32m----> \u001b[39m\u001b[32m8\u001b[39m     \u001b[43mx\u001b[49m\u001b[43m[\u001b[49m\u001b[43mi\u001b[49m\u001b[43m-\u001b[49m\u001b[32;43m1\u001b[39;49m\u001b[43m]\u001b[49m = \u001b[38;5;28mround\u001b[39m(random.uniform(\u001b[32m1\u001b[39m,\u001b[32m10\u001b[39m),\u001b[32m2\u001b[39m)\n\u001b[32m      9\u001b[39m     y[i-\u001b[32m1\u001b[39m] = \u001b[38;5;28mround\u001b[39m(random.uniform(\u001b[32m1\u001b[39m,\u001b[32m10\u001b[39m),\u001b[32m2\u001b[39m)\n\u001b[32m     11\u001b[39m \u001b[38;5;28mprint\u001b[39m(\u001b[33m\"\u001b[39m\u001b[33mfirst x: \u001b[39m\u001b[33m\"\u001b[39m, x)\n",
      "\u001b[31mIndexError\u001b[39m: list assignment index out of range"
     ]
    }
   ],
   "source": [
    "import random\n",
    "import math\n",
    "#dla list pustych + rand wypełnianie\n",
    "# x = []\n",
    "# y = []\n",
    "x = [0] * 3\n",
    "y = [0] * 3\n",
    "# print(x)   # [0, 0, 0]\n",
    "\n",
    "\n",
    "for i in range(3):\n",
    "    x[i-1] = round(random.uniform(1,10),2)\n",
    "    y[i-1] = round(random.uniform(1,10),2)\n",
    "\n",
    "print(\"first x: \", x)\n",
    "print(\"first y: \", x)\n",
    "    \n",
    "for i in range(len(x)):          # przejdź po indeksach 0, 1, 2\n",
    "    diff = x[i] - y[i]           # różnica między współrzędnymi\n",
    "    sum_of_squares += diff ** 2  # dodaj kwadrat różnicy\n",
    "distance = m.sqrt(sum_of_squares)\n",
    "print(\"first distance: \",distance)\n",
    "\n",
    "    #jakieś ograniczenie liczby elemntów listy? \n",
    "    #Czy punkty w przestrzeni mogą być ujemne? \n",
    "#2------------------------------------------------------\n",
    "for i in range (3):\n",
    "     # można dolosowac przedział lol\n",
    "    x.append(round(random.uniform(1,10),3))\n",
    "    y.append(round(random.uniform(1, 10),3))\n",
    "    \n",
    "print(\"second x: \",x, \"\\n\",\"second y:\", y, \"\\n\")\n",
    "print(\"X table size/length: \", len(x))\n",
    "#3------------------------------------------------------\n",
    "x = [round(random.uniform(1,10),3) for i in range(3)]\n",
    "y = [round(random.uniform(1,10),3) for i in range(3)]\n",
    "    \n",
    "print(\"third x: \",x, \"\\n\",\"third y: \", y, \"\\n\")\n",
    "\n",
    "\n",
    "#4-------------------------ZIP()\n",
    "distance = m.sqrt(sum((a - b)**2 for a, b in zip(x, y)))\n"
   ]
  },
  {
   "attachments": {
    "image-2.png": {
     "image/png": "[encoded data removed]"
    },
    "image.png": {
     "image/png": "[encoded data removed]"
    }
   },
   "cell_type": "markdown",
   "metadata": {},
   "source": [
    "![image.png](attachment:image.png)\n",
    "\n",
    "\n",
    "![image-2.png](attachment:image-2.png)"
   ]
  },
  {
   "attachments": {
    "image.png": {
     "image/png": "[encoded data removed]"
    }
   },
   "cell_type": "markdown",
   "metadata": {},
   "source": [
    "Funckja ZIP(): łączy listy w jeden zbiór danych: (x[0], y[0]), (x[1], y[1]), (x[2], y [2])\n",
    "\n",
    "\n",
    "![image.png](attachment:image.png)"
   ]
  },
  {
   "cell_type": "code",
   "execution_count": null,
   "metadata": {},
   "outputs": [],
   "source": [
    "#Punkty jako SŁOWNIKI:\n",
    "\n",
    "#Punkty jako dataclass? CO TO ZA STRUKTURA JAK SIĘ Z NIĄ OBCHODIĆ? JAKIE MA CECHY? CO w niej unikalne? Na co mi pozwala? DO czego się nadaje? \n"
   ]
  },
  {
   "cell_type": "markdown",
   "metadata": {},
   "source": [
    "Jakie błędy się pojawiły?\n",
    "\n",
    "1)  ValueError: math domain error || Pierwiastek z liczby ujemnej XD. We wzorze zamiast + wpisałam -"
   ]
  }
 ],
 "metadata": {
  "kernelspec": {
   "display_name": "venv",
   "language": "python",
   "name": "python3"
  },
  "language_info": {
   "codemirror_mode": {
    "name": "ipython",
    "version": 3
   },
   "file_extension": ".py",
   "mimetype": "text/x-python",
   "name": "python",
   "nbconvert_exporter": "python",
   "pygments_lexer": "ipython3",
   "version": "3.13.9"
  },
  "orig_nbformat": 4
 },
 "nbformat": 4,
 "nbformat_minor": 2
}
