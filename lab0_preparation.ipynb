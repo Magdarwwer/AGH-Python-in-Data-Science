{
 "cells": [
  {
   "cell_type": "markdown",
   "id": "5d56f7ce",
   "metadata": {},
   "source": [
    "# Języki programowania w Data Science (Python)\n",
    "## 1. Wstęp\n",
    "### 1.1 Organizacja kursu\n",
    "Zajęcia podzielone są na 3-godzinne laboratoria prowadzone przez 5 tygodni:\n",
    " - 18.10 - Wstęp do Pythona\n",
    " - 25.10 - Obliczenia numeryczne\n",
    " - 08.11 - Praca z danymi tablicowymi\n",
    " - 29.11 - Modelowanie i wizualizacja danych\n",
    " - 03.01 - Rozszerzony zestaw narzędzi\n",
    "### 1.2 Forma laboratoriów\n",
    "W ramach każdego laboratorium otrzymują Państwo do wykonania konspekty w formie notebooków .ipynb. Każdy z nich zawiera zarówno opisaną wiedzę jak i zadania. Zadania opisane jako ćwiczenia wykonujemy wspólnie w trakcie zajęć a te oznaczone jako zadania wykonuje się na kolejne zajęcia. <br />\n",
    "Możliwa jest jedna nieusprawiedliwona nieobecność na laboratoriach. Nie ma możliwości podejścia do zaległych testów, ale punkty za nie można nadrobić w inny sposób, np. ustalony indywidualnie.\n",
    "### 1.3 Sprawdzenie wiedzy\n",
    "W trakcie semestru można uzyskać maksymalnie 3 punkty przekładające się odpowiednio na oceny:\n",
    "\n",
    " - 0pkt - 2.0\n",
    " - 1pkt - 3.0\n",
    " - 2pkt - 4.0\n",
    " - 3pkt - 5.0\n",
    "\n",
    "Na początku zajęć 3-5 przeprowadzone zostaną krótkie testy sprawdzające wiedzę z poprzednich zajęć. Testy mają formę notebooków z zadaniem do zakodowania. W każdej chwili będzie można zweryfikować, czy Państwa rozwiązanie jest poprawne. Oceny są zero-jedynkowe, tzn. rozwiązanie przechodzi weryfikację, lub nie i otrzymuje się analogicznie 1 lub 0 punktów. Dodatkowo za aktywność w trakcie zajęć otrzymuje się bonusowo co najmniej 0.25pkt. W trakcie semestru będzie również możliwość wykonania dodatkowego projektu dla chętnych.\n",
    "### 1.4 Literatura\n",
    " - Allen Downey: Elements of Data Science\n",
    " - Allen Downey: Think Bayes 2e\n",
    " - numpy.org/learn"
   ]
  },
  {
   "cell_type": "markdown",
   "id": "8bfc765f",
   "metadata": {},
   "source": [
    "## 2. Przygotowanie środowiska\n",
    "Aby być w stanie wykonywać kod zaprezentowany na zadaniach, należy odpowiednio przygotować środowisko python. Najlepiej zrobić to jeszcze przed pierwszymi zajęciami.\n",
    "### 2.1 Instalacja Python 3.13\n",
    "Dla zgodności będziemy korzystać z tej samej wersji języka.\n",
    "Pythona należy pobrać ze strony https://www.python.org/downloads/\n",
    "Po skonfigurowaniu (dodanie pythona do ścieżki na windowsie) i wykonaniu komendy\n",
    "\n",
    "    > python --version\n",
    "    albo\n",
    "    > python3 --version\n",
    "\n",
    "powinniśmy zobaczyć tekst np.: Python 3.13.2\n",
    "### 2.2 Przygotowanie projektu\n",
    "Warto przygotować dedykowany folder projektowy na wszystkie pliki wykorzystywane w ramach zajęć. Następnie w tym projekcie należy utworzyć tzw. środowisko wirtualne, które będzie zawierać wersję pythona przygotowaną specjalnie do projektu wraz z odpowiednimi zależnościami. Po przejściu w terminalu do odpowiedniego folderu, należy utworzyć je komendami:\n",
    "\n",
    "    > python -m venv venv\n",
    "    > aktywacja środowiska (source venv/bin/activate [linux] or venv\\Scripts\\activate.bat [windows])\n",
    "    > pip install -r requirements.txt\n",
    "\n",
    "### 2.3 Przygotowanie narzędzi\n",
    "Pracować z kodem można w preferowanym edytorze, ale w przypadku braku preferencji polecane są np.:\n",
    "#### a) Visual Studio Code\n",
    "https://code.visualstudio.com/Download<br />\n",
    "Należy zainstalować rozszerzenia Python i Jupyter (po otworzeniu pliku .ipynb edytor powinien sam je zaproponować)\n",
    "#### b) Praca z poziomu jupyter (wcześniej należy zainstalować pakiet Cargo języka Rust)\n",
    "    > pip install jupyterLab\n",
    "    > jupyter-lab\n",
    "#### c) Praca z Google Collab - nie wymaga lokalnego środowiska, ale nie zapisuje wyników pracy\n",
    "https://colab.google<br />\n",
    "Python i wiele bibliotek powinno być tam już zainstalowanych. Ewentualnie można doinstalować z poziomu komórek kodu. Niestety w przypadku Google Collab przy poonwnym uruchomieniu trzeba ponownie wgrywać dane."
   ]
  },
  {
   "cell_type": "code",
   "execution_count": 2,
   "id": "52819131",
   "metadata": {},
   "outputs": [
    {
     "data": {
      "text/plain": [
       "'2.3.3'"
      ]
     },
     "execution_count": 2,
     "metadata": {},
     "output_type": "execute_result"
    }
   ],
   "source": [
    "# Aby zweryfikować, czy posiadasz zainstalowane wymagane pakiety, uruchom poniższy kod (np. w Jupyter Notebook, albo z poziomu edytora)\n",
    "# Dotyczy pliku .ipynb\n",
    "import numpy as np\n",
    "\n",
    "np.__version__"
   ]
  }
 ],
 "metadata": {
  "kernelspec": {
   "display_name": "venv",
   "language": "python",
   "name": "python3"
  },
  "language_info": {
   "codemirror_mode": {
    "name": "ipython",
    "version": 3
   },
   "file_extension": ".py",
   "mimetype": "text/x-python",
   "name": "python",
   "nbconvert_exporter": "python",
   "pygments_lexer": "ipython3",
   "version": "3.13.9"
  }
 },
 "nbformat": 4,
 "nbformat_minor": 5
}
